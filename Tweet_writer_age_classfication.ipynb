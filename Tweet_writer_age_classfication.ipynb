{
  "nbformat": 4,
  "nbformat_minor": 0,
  "metadata": {
    "colab": {
      "provenance": [],
      "collapsed_sections": [
        "0O1SibhiXRGu",
        "zPrLpzK7XMGz",
        "ykLXMXrFXdZW",
        "pEbJZb88Xgpx",
        "L11S8dH2Xj-8",
        "zDEfyoeOXpkf",
        "-QQmKuyU7m9P",
        "_Sc0xtns8UQC",
        "lc00an28E4es"
      ],
      "authorship_tag": "ABX9TyMNMpprxO9OwpM8IOm37KGR",
      "include_colab_link": true
    },
    "kernelspec": {
      "name": "python3",
      "display_name": "Python 3"
    },
    "language_info": {
      "name": "python"
    }
  },
  "cells": [
    {
      "cell_type": "markdown",
      "metadata": {
        "id": "view-in-github",
        "colab_type": "text"
      },
      "source": [
        "<a href=\"https://colab.research.google.com/github/deema1999/Tweets_writers_age_classification/blob/main/Tweet_writer_age_classfication.ipynb\" target=\"_parent\"><img src=\"https://colab.research.google.com/assets/colab-badge.svg\" alt=\"Open In Colab\"/></a>"
      ]
    },
    {
      "cell_type": "code",
      "metadata": {
        "colab": {
          "base_uri": "https://localhost:8080/"
        },
        "id": "g_NCxvYM2MlI",
        "outputId": "0a74a5f3-b47c-457b-cacc-80129c3a10e2"
      },
      "source": [
        "import pandas as pd\n",
        "import numpy as np\n",
        "import seaborn as sns\n",
        "import xml.etree.cElementTree as et\n",
        "import re\n",
        "import os\n",
        "from google.colab import drive\n",
        "drive.mount(\"/content/gdrive\")"
      ],
      "execution_count": 1,
      "outputs": [
        {
          "output_type": "stream",
          "name": "stdout",
          "text": [
            "Mounted at /content/gdrive\n"
          ]
        }
      ]
    },
    {
      "cell_type": "code",
      "metadata": {
        "id": "HXAkVSp-_1zJ"
      },
      "source": [
        "# copy images\n",
        "!mkdir -p Dataset\n",
        "!cp -rf /content/gdrive/MyDrive/ML/pan2015 Dataset\n",
        "!cp -rf /content/gdrive/MyDrive/ML/truth.txt Dataset"
      ],
      "execution_count": 2,
      "outputs": []
    },
    {
      "cell_type": "code",
      "metadata": {
        "id": "Zcx2j1IXknCV"
      },
      "source": [
        "#!unzip /content/Project_Data.zip -d Project_Data"
      ],
      "execution_count": null,
      "outputs": []
    },
    {
      "cell_type": "markdown",
      "metadata": {
        "id": "5soGoY1SCC6w"
      },
      "source": [
        "# Play with data"
      ]
    },
    {
      "cell_type": "code",
      "source": [
        "from textblob import TextBlob\n",
        "data = \"His sellection is bery antresting\"\n",
        "output = TextBlob(data).correct()\n",
        "output"
      ],
      "metadata": {
        "colab": {
          "base_uri": "https://localhost:8080/"
        },
        "id": "jVa41uVR5pBf",
        "outputId": "8eb386da-3831-4932-f8c1-c08419715951"
      },
      "execution_count": null,
      "outputs": [
        {
          "output_type": "execute_result",
          "data": {
            "text/plain": [
              "TextBlob(\"His selection is very interesting\")"
            ]
          },
          "metadata": {},
          "execution_count": 95
        }
      ]
    },
    {
      "cell_type": "code",
      "metadata": {
        "id": "fieNOjD6_2sY",
        "colab": {
          "base_uri": "https://localhost:8080/",
          "height": 394
        },
        "outputId": "5d4c9ade-724f-450e-846e-1c0fbf77342e"
      },
      "source": [
        "documents = {}\n",
        "ind = -1\n",
        "from textblob import TextBlob\n",
        "\n",
        "for filename in os.listdir('/content/Dataset/pan2015'):\n",
        "    full_path = os.path.join('/content/Dataset/pan2015', filename)\n",
        "    tree = et.parse(full_path)\n",
        "    root = tree.getroot()\n",
        "    id = root.attrib['id']\n",
        "    document = \"\" \n",
        "    ind+=1\n",
        "    for doc in root.iter('document'):  \n",
        "      text = doc.text\n",
        "      text = text.lower()\n",
        "      text = re.sub(r'(.)\\1+', r'\\1\\1', text)\n",
        "      # Removing URL's\n",
        "      # text = re.sub(r'http\\S+', '', text)\n",
        "      # Removing puctuations\n",
        "      # text = re.sub(r'[^\\w\\s]', '', text)\n",
        "      # Removing numbers\n",
        "      # text = re.sub(r'[\\d-]', '', text)\n",
        "      # Removing multiple spaces\n",
        "      #text = re.sub(r'\\s\\s+', '', text)\n",
        "      # Removing redundent charachters\n",
        "      #text = re.sub(r'([a-z]+?)\\1+', r'\\1',text)\n",
        "      document = document + text + ''\n",
        "    documents[ind] = [id,document]\n"
      ],
      "execution_count": null,
      "outputs": [
        {
          "output_type": "error",
          "ename": "KeyboardInterrupt",
          "evalue": "ignored",
          "traceback": [
            "\u001b[0;31m---------------------------------------------------------------------------\u001b[0m",
            "\u001b[0;31mKeyboardInterrupt\u001b[0m                         Traceback (most recent call last)",
            "\u001b[0;32m<ipython-input-94-3ef100042231>\u001b[0m in \u001b[0;36m<module>\u001b[0;34m()\u001b[0m\n\u001b[1;32m     25\u001b[0m       \u001b[0;31m#text = re.sub(r'([a-z]+?)\\1+', r'\\1',text)\u001b[0m\u001b[0;34m\u001b[0m\u001b[0;34m\u001b[0m\u001b[0;34m\u001b[0m\u001b[0m\n\u001b[1;32m     26\u001b[0m       \u001b[0mdocument\u001b[0m \u001b[0;34m=\u001b[0m \u001b[0mdocument\u001b[0m \u001b[0;34m+\u001b[0m \u001b[0mtext\u001b[0m \u001b[0;34m+\u001b[0m \u001b[0;34m''\u001b[0m\u001b[0;34m\u001b[0m\u001b[0;34m\u001b[0m\u001b[0m\n\u001b[0;32m---> 27\u001b[0;31m     \u001b[0mdocument\u001b[0m \u001b[0;34m=\u001b[0m \u001b[0mTextBlob\u001b[0m\u001b[0;34m(\u001b[0m\u001b[0mdocument\u001b[0m\u001b[0;34m)\u001b[0m\u001b[0;34m.\u001b[0m\u001b[0mcorrect\u001b[0m\u001b[0;34m(\u001b[0m\u001b[0;34m)\u001b[0m\u001b[0;34m\u001b[0m\u001b[0;34m\u001b[0m\u001b[0m\n\u001b[0m\u001b[1;32m     28\u001b[0m     \u001b[0mdocument\u001b[0m \u001b[0;34m=\u001b[0m \u001b[0mstr\u001b[0m\u001b[0;34m(\u001b[0m\u001b[0mdocument\u001b[0m\u001b[0;34m)\u001b[0m\u001b[0;34m\u001b[0m\u001b[0;34m\u001b[0m\u001b[0m\n\u001b[1;32m     29\u001b[0m     \u001b[0mdocuments\u001b[0m\u001b[0;34m[\u001b[0m\u001b[0mind\u001b[0m\u001b[0;34m]\u001b[0m \u001b[0;34m=\u001b[0m \u001b[0;34m[\u001b[0m\u001b[0mid\u001b[0m\u001b[0;34m,\u001b[0m\u001b[0mdocument\u001b[0m\u001b[0;34m]\u001b[0m\u001b[0;34m\u001b[0m\u001b[0;34m\u001b[0m\u001b[0m\n",
            "\u001b[0;32m/usr/local/lib/python3.7/dist-packages/textblob/blob.py\u001b[0m in \u001b[0;36mcorrect\u001b[0;34m(self)\u001b[0m\n\u001b[1;32m    578\u001b[0m         \u001b[0mtokens\u001b[0m \u001b[0;34m=\u001b[0m \u001b[0mnltk\u001b[0m\u001b[0;34m.\u001b[0m\u001b[0mtokenize\u001b[0m\u001b[0;34m.\u001b[0m\u001b[0mregexp_tokenize\u001b[0m\u001b[0;34m(\u001b[0m\u001b[0mself\u001b[0m\u001b[0;34m.\u001b[0m\u001b[0mraw\u001b[0m\u001b[0;34m,\u001b[0m \u001b[0;34mr\"\\w+|[^\\w\\s]|\\s\"\u001b[0m\u001b[0;34m)\u001b[0m\u001b[0;34m\u001b[0m\u001b[0;34m\u001b[0m\u001b[0m\n\u001b[1;32m    579\u001b[0m         \u001b[0mcorrected\u001b[0m \u001b[0;34m=\u001b[0m \u001b[0;34m(\u001b[0m\u001b[0mWord\u001b[0m\u001b[0;34m(\u001b[0m\u001b[0mw\u001b[0m\u001b[0;34m)\u001b[0m\u001b[0;34m.\u001b[0m\u001b[0mcorrect\u001b[0m\u001b[0;34m(\u001b[0m\u001b[0;34m)\u001b[0m \u001b[0;32mfor\u001b[0m \u001b[0mw\u001b[0m \u001b[0;32min\u001b[0m \u001b[0mtokens\u001b[0m\u001b[0;34m)\u001b[0m\u001b[0;34m\u001b[0m\u001b[0;34m\u001b[0m\u001b[0m\n\u001b[0;32m--> 580\u001b[0;31m         \u001b[0mret\u001b[0m \u001b[0;34m=\u001b[0m \u001b[0;34m''\u001b[0m\u001b[0;34m.\u001b[0m\u001b[0mjoin\u001b[0m\u001b[0;34m(\u001b[0m\u001b[0mcorrected\u001b[0m\u001b[0;34m)\u001b[0m\u001b[0;34m\u001b[0m\u001b[0;34m\u001b[0m\u001b[0m\n\u001b[0m\u001b[1;32m    581\u001b[0m         \u001b[0;32mreturn\u001b[0m \u001b[0mself\u001b[0m\u001b[0;34m.\u001b[0m\u001b[0m__class__\u001b[0m\u001b[0;34m(\u001b[0m\u001b[0mret\u001b[0m\u001b[0;34m)\u001b[0m\u001b[0;34m\u001b[0m\u001b[0;34m\u001b[0m\u001b[0m\n\u001b[1;32m    582\u001b[0m \u001b[0;34m\u001b[0m\u001b[0m\n",
            "\u001b[0;32m/usr/local/lib/python3.7/dist-packages/textblob/blob.py\u001b[0m in \u001b[0;36m<genexpr>\u001b[0;34m(.0)\u001b[0m\n\u001b[1;32m    577\u001b[0m         \u001b[0;31m# regex matches: word or punctuation or whitespace\u001b[0m\u001b[0;34m\u001b[0m\u001b[0;34m\u001b[0m\u001b[0;34m\u001b[0m\u001b[0m\n\u001b[1;32m    578\u001b[0m         \u001b[0mtokens\u001b[0m \u001b[0;34m=\u001b[0m \u001b[0mnltk\u001b[0m\u001b[0;34m.\u001b[0m\u001b[0mtokenize\u001b[0m\u001b[0;34m.\u001b[0m\u001b[0mregexp_tokenize\u001b[0m\u001b[0;34m(\u001b[0m\u001b[0mself\u001b[0m\u001b[0;34m.\u001b[0m\u001b[0mraw\u001b[0m\u001b[0;34m,\u001b[0m \u001b[0;34mr\"\\w+|[^\\w\\s]|\\s\"\u001b[0m\u001b[0;34m)\u001b[0m\u001b[0;34m\u001b[0m\u001b[0;34m\u001b[0m\u001b[0m\n\u001b[0;32m--> 579\u001b[0;31m         \u001b[0mcorrected\u001b[0m \u001b[0;34m=\u001b[0m \u001b[0;34m(\u001b[0m\u001b[0mWord\u001b[0m\u001b[0;34m(\u001b[0m\u001b[0mw\u001b[0m\u001b[0;34m)\u001b[0m\u001b[0;34m.\u001b[0m\u001b[0mcorrect\u001b[0m\u001b[0;34m(\u001b[0m\u001b[0;34m)\u001b[0m \u001b[0;32mfor\u001b[0m \u001b[0mw\u001b[0m \u001b[0;32min\u001b[0m \u001b[0mtokens\u001b[0m\u001b[0;34m)\u001b[0m\u001b[0;34m\u001b[0m\u001b[0;34m\u001b[0m\u001b[0m\n\u001b[0m\u001b[1;32m    580\u001b[0m         \u001b[0mret\u001b[0m \u001b[0;34m=\u001b[0m \u001b[0;34m''\u001b[0m\u001b[0;34m.\u001b[0m\u001b[0mjoin\u001b[0m\u001b[0;34m(\u001b[0m\u001b[0mcorrected\u001b[0m\u001b[0;34m)\u001b[0m\u001b[0;34m\u001b[0m\u001b[0;34m\u001b[0m\u001b[0m\n\u001b[1;32m    581\u001b[0m         \u001b[0;32mreturn\u001b[0m \u001b[0mself\u001b[0m\u001b[0;34m.\u001b[0m\u001b[0m__class__\u001b[0m\u001b[0;34m(\u001b[0m\u001b[0mret\u001b[0m\u001b[0;34m)\u001b[0m\u001b[0;34m\u001b[0m\u001b[0;34m\u001b[0m\u001b[0m\n",
            "\u001b[0;32m/usr/local/lib/python3.7/dist-packages/textblob/blob.py\u001b[0m in \u001b[0;36mcorrect\u001b[0;34m(self)\u001b[0m\n\u001b[1;32m    125\u001b[0m         \u001b[0;34m.\u001b[0m\u001b[0;34m.\u001b[0m \u001b[0mversionadded\u001b[0m\u001b[0;34m:\u001b[0m\u001b[0;34m:\u001b[0m \u001b[0;36m0.6\u001b[0m\u001b[0;36m.0\u001b[0m\u001b[0;34m\u001b[0m\u001b[0;34m\u001b[0m\u001b[0m\n\u001b[1;32m    126\u001b[0m         '''\n\u001b[0;32m--> 127\u001b[0;31m         \u001b[0;32mreturn\u001b[0m \u001b[0mWord\u001b[0m\u001b[0;34m(\u001b[0m\u001b[0mself\u001b[0m\u001b[0;34m.\u001b[0m\u001b[0mspellcheck\u001b[0m\u001b[0;34m(\u001b[0m\u001b[0;34m)\u001b[0m\u001b[0;34m[\u001b[0m\u001b[0;36m0\u001b[0m\u001b[0;34m]\u001b[0m\u001b[0;34m[\u001b[0m\u001b[0;36m0\u001b[0m\u001b[0;34m]\u001b[0m\u001b[0;34m)\u001b[0m\u001b[0;34m\u001b[0m\u001b[0;34m\u001b[0m\u001b[0m\n\u001b[0m\u001b[1;32m    128\u001b[0m \u001b[0;34m\u001b[0m\u001b[0m\n\u001b[1;32m    129\u001b[0m     \u001b[0;34m@\u001b[0m\u001b[0mcached_property\u001b[0m\u001b[0;34m\u001b[0m\u001b[0;34m\u001b[0m\u001b[0m\n",
            "\u001b[0;32m/usr/local/lib/python3.7/dist-packages/textblob/blob.py\u001b[0m in \u001b[0;36mspellcheck\u001b[0;34m(self)\u001b[0m\n\u001b[1;32m    117\u001b[0m         \u001b[0;34m.\u001b[0m\u001b[0;34m.\u001b[0m \u001b[0mversionadded\u001b[0m\u001b[0;34m:\u001b[0m\u001b[0;34m:\u001b[0m \u001b[0;36m0.6\u001b[0m\u001b[0;36m.0\u001b[0m\u001b[0;34m\u001b[0m\u001b[0;34m\u001b[0m\u001b[0m\n\u001b[1;32m    118\u001b[0m         '''\n\u001b[0;32m--> 119\u001b[0;31m         \u001b[0;32mreturn\u001b[0m \u001b[0msuggest\u001b[0m\u001b[0;34m(\u001b[0m\u001b[0mself\u001b[0m\u001b[0;34m.\u001b[0m\u001b[0mstring\u001b[0m\u001b[0;34m)\u001b[0m\u001b[0;34m\u001b[0m\u001b[0;34m\u001b[0m\u001b[0m\n\u001b[0m\u001b[1;32m    120\u001b[0m \u001b[0;34m\u001b[0m\u001b[0m\n\u001b[1;32m    121\u001b[0m     \u001b[0;32mdef\u001b[0m \u001b[0mcorrect\u001b[0m\u001b[0;34m(\u001b[0m\u001b[0mself\u001b[0m\u001b[0;34m)\u001b[0m\u001b[0;34m:\u001b[0m\u001b[0;34m\u001b[0m\u001b[0;34m\u001b[0m\u001b[0m\n",
            "\u001b[0;32m/usr/local/lib/python3.7/dist-packages/textblob/en/__init__.py\u001b[0m in \u001b[0;36msuggest\u001b[0;34m(w)\u001b[0m\n\u001b[1;32m    121\u001b[0m     \"\"\" Returns a list of (word, confidence)-tuples of spelling corrections.\n\u001b[1;32m    122\u001b[0m     \"\"\"\n\u001b[0;32m--> 123\u001b[0;31m     \u001b[0;32mreturn\u001b[0m \u001b[0mspelling\u001b[0m\u001b[0;34m.\u001b[0m\u001b[0msuggest\u001b[0m\u001b[0;34m(\u001b[0m\u001b[0mw\u001b[0m\u001b[0;34m)\u001b[0m\u001b[0;34m\u001b[0m\u001b[0;34m\u001b[0m\u001b[0m\n\u001b[0m\u001b[1;32m    124\u001b[0m \u001b[0;34m\u001b[0m\u001b[0m\n\u001b[1;32m    125\u001b[0m \u001b[0;32mdef\u001b[0m \u001b[0mpolarity\u001b[0m\u001b[0;34m(\u001b[0m\u001b[0ms\u001b[0m\u001b[0;34m,\u001b[0m \u001b[0;34m**\u001b[0m\u001b[0mkwargs\u001b[0m\u001b[0;34m)\u001b[0m\u001b[0;34m:\u001b[0m\u001b[0;34m\u001b[0m\u001b[0;34m\u001b[0m\u001b[0m\n",
            "\u001b[0;32m/usr/local/lib/python3.7/dist-packages/textblob/_text.py\u001b[0m in \u001b[0;36msuggest\u001b[0;34m(self, w)\u001b[0m\n\u001b[1;32m   1396\u001b[0m         \u001b[0mcandidates\u001b[0m \u001b[0;34m=\u001b[0m \u001b[0mself\u001b[0m\u001b[0;34m.\u001b[0m\u001b[0m_known\u001b[0m\u001b[0;34m(\u001b[0m\u001b[0;34m[\u001b[0m\u001b[0mw\u001b[0m\u001b[0;34m]\u001b[0m\u001b[0;34m)\u001b[0m\u001b[0;31m \u001b[0m\u001b[0;31m\\\u001b[0m\u001b[0;34m\u001b[0m\u001b[0;34m\u001b[0m\u001b[0m\n\u001b[1;32m   1397\u001b[0m                   \u001b[0;32mor\u001b[0m \u001b[0mself\u001b[0m\u001b[0;34m.\u001b[0m\u001b[0m_known\u001b[0m\u001b[0;34m(\u001b[0m\u001b[0mself\u001b[0m\u001b[0;34m.\u001b[0m\u001b[0m_edit1\u001b[0m\u001b[0;34m(\u001b[0m\u001b[0mw\u001b[0m\u001b[0;34m)\u001b[0m\u001b[0;34m)\u001b[0m\u001b[0;31m \u001b[0m\u001b[0;31m\\\u001b[0m\u001b[0;34m\u001b[0m\u001b[0;34m\u001b[0m\u001b[0m\n\u001b[0;32m-> 1398\u001b[0;31m                   \u001b[0;32mor\u001b[0m \u001b[0mself\u001b[0m\u001b[0;34m.\u001b[0m\u001b[0m_known\u001b[0m\u001b[0;34m(\u001b[0m\u001b[0mself\u001b[0m\u001b[0;34m.\u001b[0m\u001b[0m_edit2\u001b[0m\u001b[0;34m(\u001b[0m\u001b[0mw\u001b[0m\u001b[0;34m)\u001b[0m\u001b[0;34m)\u001b[0m\u001b[0;31m \u001b[0m\u001b[0;31m\\\u001b[0m\u001b[0;34m\u001b[0m\u001b[0;34m\u001b[0m\u001b[0m\n\u001b[0m\u001b[1;32m   1399\u001b[0m                   \u001b[0;32mor\u001b[0m \u001b[0;34m[\u001b[0m\u001b[0mw\u001b[0m\u001b[0;34m]\u001b[0m\u001b[0;34m\u001b[0m\u001b[0;34m\u001b[0m\u001b[0m\n\u001b[1;32m   1400\u001b[0m         \u001b[0mcandidates\u001b[0m \u001b[0;34m=\u001b[0m \u001b[0;34m[\u001b[0m\u001b[0;34m(\u001b[0m\u001b[0mself\u001b[0m\u001b[0;34m.\u001b[0m\u001b[0mget\u001b[0m\u001b[0;34m(\u001b[0m\u001b[0mc\u001b[0m\u001b[0;34m,\u001b[0m \u001b[0;36m0.0\u001b[0m\u001b[0;34m)\u001b[0m\u001b[0;34m,\u001b[0m \u001b[0mc\u001b[0m\u001b[0;34m)\u001b[0m \u001b[0;32mfor\u001b[0m \u001b[0mc\u001b[0m \u001b[0;32min\u001b[0m \u001b[0mcandidates\u001b[0m\u001b[0;34m]\u001b[0m\u001b[0;34m\u001b[0m\u001b[0;34m\u001b[0m\u001b[0m\n",
            "\u001b[0;32m/usr/local/lib/python3.7/dist-packages/textblob/_text.py\u001b[0m in \u001b[0;36m_edit2\u001b[0;34m(self, w)\u001b[0m\n\u001b[1;32m   1373\u001b[0m         \u001b[0;31m# Of all spelling errors, 99% is covered by edit distance 2.\u001b[0m\u001b[0;34m\u001b[0m\u001b[0;34m\u001b[0m\u001b[0;34m\u001b[0m\u001b[0m\n\u001b[1;32m   1374\u001b[0m         \u001b[0;31m# Only keep candidates that are actually known words (20% speedup).\u001b[0m\u001b[0;34m\u001b[0m\u001b[0;34m\u001b[0m\u001b[0;34m\u001b[0m\u001b[0m\n\u001b[0;32m-> 1375\u001b[0;31m         \u001b[0;32mreturn\u001b[0m \u001b[0mset\u001b[0m\u001b[0;34m(\u001b[0m\u001b[0me2\u001b[0m \u001b[0;32mfor\u001b[0m \u001b[0me1\u001b[0m \u001b[0;32min\u001b[0m \u001b[0mself\u001b[0m\u001b[0;34m.\u001b[0m\u001b[0m_edit1\u001b[0m\u001b[0;34m(\u001b[0m\u001b[0mw\u001b[0m\u001b[0;34m)\u001b[0m \u001b[0;32mfor\u001b[0m \u001b[0me2\u001b[0m \u001b[0;32min\u001b[0m \u001b[0mself\u001b[0m\u001b[0;34m.\u001b[0m\u001b[0m_edit1\u001b[0m\u001b[0;34m(\u001b[0m\u001b[0me1\u001b[0m\u001b[0;34m)\u001b[0m \u001b[0;32mif\u001b[0m \u001b[0me2\u001b[0m \u001b[0;32min\u001b[0m \u001b[0mself\u001b[0m\u001b[0;34m)\u001b[0m\u001b[0;34m\u001b[0m\u001b[0;34m\u001b[0m\u001b[0m\n\u001b[0m\u001b[1;32m   1376\u001b[0m \u001b[0;34m\u001b[0m\u001b[0m\n\u001b[1;32m   1377\u001b[0m     \u001b[0;32mdef\u001b[0m \u001b[0m_known\u001b[0m\u001b[0;34m(\u001b[0m\u001b[0mself\u001b[0m\u001b[0;34m,\u001b[0m \u001b[0mwords\u001b[0m\u001b[0;34m=\u001b[0m\u001b[0;34m[\u001b[0m\u001b[0;34m]\u001b[0m\u001b[0;34m)\u001b[0m\u001b[0;34m:\u001b[0m\u001b[0;34m\u001b[0m\u001b[0;34m\u001b[0m\u001b[0m\n",
            "\u001b[0;32m/usr/local/lib/python3.7/dist-packages/textblob/_text.py\u001b[0m in \u001b[0;36m<genexpr>\u001b[0;34m(.0)\u001b[0m\n\u001b[1;32m   1373\u001b[0m         \u001b[0;31m# Of all spelling errors, 99% is covered by edit distance 2.\u001b[0m\u001b[0;34m\u001b[0m\u001b[0;34m\u001b[0m\u001b[0;34m\u001b[0m\u001b[0m\n\u001b[1;32m   1374\u001b[0m         \u001b[0;31m# Only keep candidates that are actually known words (20% speedup).\u001b[0m\u001b[0;34m\u001b[0m\u001b[0;34m\u001b[0m\u001b[0;34m\u001b[0m\u001b[0m\n\u001b[0;32m-> 1375\u001b[0;31m         \u001b[0;32mreturn\u001b[0m \u001b[0mset\u001b[0m\u001b[0;34m(\u001b[0m\u001b[0me2\u001b[0m \u001b[0;32mfor\u001b[0m \u001b[0me1\u001b[0m \u001b[0;32min\u001b[0m \u001b[0mself\u001b[0m\u001b[0;34m.\u001b[0m\u001b[0m_edit1\u001b[0m\u001b[0;34m(\u001b[0m\u001b[0mw\u001b[0m\u001b[0;34m)\u001b[0m \u001b[0;32mfor\u001b[0m \u001b[0me2\u001b[0m \u001b[0;32min\u001b[0m \u001b[0mself\u001b[0m\u001b[0;34m.\u001b[0m\u001b[0m_edit1\u001b[0m\u001b[0;34m(\u001b[0m\u001b[0me1\u001b[0m\u001b[0;34m)\u001b[0m \u001b[0;32mif\u001b[0m \u001b[0me2\u001b[0m \u001b[0;32min\u001b[0m \u001b[0mself\u001b[0m\u001b[0;34m)\u001b[0m\u001b[0;34m\u001b[0m\u001b[0;34m\u001b[0m\u001b[0m\n\u001b[0m\u001b[1;32m   1376\u001b[0m \u001b[0;34m\u001b[0m\u001b[0m\n\u001b[1;32m   1377\u001b[0m     \u001b[0;32mdef\u001b[0m \u001b[0m_known\u001b[0m\u001b[0;34m(\u001b[0m\u001b[0mself\u001b[0m\u001b[0;34m,\u001b[0m \u001b[0mwords\u001b[0m\u001b[0;34m=\u001b[0m\u001b[0;34m[\u001b[0m\u001b[0;34m]\u001b[0m\u001b[0;34m)\u001b[0m\u001b[0;34m:\u001b[0m\u001b[0;34m\u001b[0m\u001b[0;34m\u001b[0m\u001b[0m\n",
            "\u001b[0;32m/usr/local/lib/python3.7/dist-packages/textblob/_text.py\u001b[0m in \u001b[0;36m_edit1\u001b[0;34m(self, w)\u001b[0m\n\u001b[1;32m   1363\u001b[0m             \u001b[0;34m[\u001b[0m\u001b[0ma\u001b[0m \u001b[0;34m+\u001b[0m \u001b[0mb\u001b[0m\u001b[0;34m[\u001b[0m\u001b[0;36m1\u001b[0m\u001b[0;34m:\u001b[0m\u001b[0;34m]\u001b[0m \u001b[0;32mfor\u001b[0m \u001b[0ma\u001b[0m\u001b[0;34m,\u001b[0m \u001b[0mb\u001b[0m \u001b[0;32min\u001b[0m \u001b[0msplit\u001b[0m \u001b[0;32mif\u001b[0m \u001b[0mb\u001b[0m\u001b[0;34m]\u001b[0m\u001b[0;34m,\u001b[0m\u001b[0;34m\u001b[0m\u001b[0;34m\u001b[0m\u001b[0m\n\u001b[1;32m   1364\u001b[0m             \u001b[0;34m[\u001b[0m\u001b[0ma\u001b[0m \u001b[0;34m+\u001b[0m \u001b[0mb\u001b[0m\u001b[0;34m[\u001b[0m\u001b[0;36m1\u001b[0m\u001b[0;34m]\u001b[0m \u001b[0;34m+\u001b[0m \u001b[0mb\u001b[0m\u001b[0;34m[\u001b[0m\u001b[0;36m0\u001b[0m\u001b[0;34m]\u001b[0m \u001b[0;34m+\u001b[0m \u001b[0mb\u001b[0m\u001b[0;34m[\u001b[0m\u001b[0;36m2\u001b[0m\u001b[0;34m:\u001b[0m\u001b[0;34m]\u001b[0m \u001b[0;32mfor\u001b[0m \u001b[0ma\u001b[0m\u001b[0;34m,\u001b[0m \u001b[0mb\u001b[0m \u001b[0;32min\u001b[0m \u001b[0msplit\u001b[0m \u001b[0;32mif\u001b[0m \u001b[0mlen\u001b[0m\u001b[0;34m(\u001b[0m\u001b[0mb\u001b[0m\u001b[0;34m)\u001b[0m \u001b[0;34m>\u001b[0m \u001b[0;36m1\u001b[0m\u001b[0;34m]\u001b[0m\u001b[0;34m,\u001b[0m\u001b[0;34m\u001b[0m\u001b[0;34m\u001b[0m\u001b[0m\n\u001b[0;32m-> 1365\u001b[0;31m             \u001b[0;34m[\u001b[0m\u001b[0ma\u001b[0m \u001b[0;34m+\u001b[0m \u001b[0mc\u001b[0m \u001b[0;34m+\u001b[0m \u001b[0mb\u001b[0m\u001b[0;34m[\u001b[0m\u001b[0;36m1\u001b[0m\u001b[0;34m:\u001b[0m\u001b[0;34m]\u001b[0m \u001b[0;32mfor\u001b[0m \u001b[0ma\u001b[0m\u001b[0;34m,\u001b[0m \u001b[0mb\u001b[0m \u001b[0;32min\u001b[0m \u001b[0msplit\u001b[0m \u001b[0;32mfor\u001b[0m \u001b[0mc\u001b[0m \u001b[0;32min\u001b[0m \u001b[0mSpelling\u001b[0m\u001b[0;34m.\u001b[0m\u001b[0mALPHA\u001b[0m \u001b[0;32mif\u001b[0m \u001b[0mb\u001b[0m\u001b[0;34m]\u001b[0m\u001b[0;34m,\u001b[0m\u001b[0;34m\u001b[0m\u001b[0;34m\u001b[0m\u001b[0m\n\u001b[0m\u001b[1;32m   1366\u001b[0m             \u001b[0;34m[\u001b[0m\u001b[0ma\u001b[0m \u001b[0;34m+\u001b[0m \u001b[0mc\u001b[0m \u001b[0;34m+\u001b[0m \u001b[0mb\u001b[0m\u001b[0;34m[\u001b[0m\u001b[0;36m0\u001b[0m\u001b[0;34m:\u001b[0m\u001b[0;34m]\u001b[0m \u001b[0;32mfor\u001b[0m \u001b[0ma\u001b[0m\u001b[0;34m,\u001b[0m \u001b[0mb\u001b[0m \u001b[0;32min\u001b[0m \u001b[0msplit\u001b[0m \u001b[0;32mfor\u001b[0m \u001b[0mc\u001b[0m \u001b[0;32min\u001b[0m \u001b[0mSpelling\u001b[0m\u001b[0;34m.\u001b[0m\u001b[0mALPHA\u001b[0m\u001b[0;34m]\u001b[0m\u001b[0;34m\u001b[0m\u001b[0;34m\u001b[0m\u001b[0m\n\u001b[1;32m   1367\u001b[0m         )\n",
            "\u001b[0;32m/usr/local/lib/python3.7/dist-packages/textblob/_text.py\u001b[0m in \u001b[0;36m<listcomp>\u001b[0;34m(.0)\u001b[0m\n\u001b[1;32m   1363\u001b[0m             \u001b[0;34m[\u001b[0m\u001b[0ma\u001b[0m \u001b[0;34m+\u001b[0m \u001b[0mb\u001b[0m\u001b[0;34m[\u001b[0m\u001b[0;36m1\u001b[0m\u001b[0;34m:\u001b[0m\u001b[0;34m]\u001b[0m \u001b[0;32mfor\u001b[0m \u001b[0ma\u001b[0m\u001b[0;34m,\u001b[0m \u001b[0mb\u001b[0m \u001b[0;32min\u001b[0m \u001b[0msplit\u001b[0m \u001b[0;32mif\u001b[0m \u001b[0mb\u001b[0m\u001b[0;34m]\u001b[0m\u001b[0;34m,\u001b[0m\u001b[0;34m\u001b[0m\u001b[0;34m\u001b[0m\u001b[0m\n\u001b[1;32m   1364\u001b[0m             \u001b[0;34m[\u001b[0m\u001b[0ma\u001b[0m \u001b[0;34m+\u001b[0m \u001b[0mb\u001b[0m\u001b[0;34m[\u001b[0m\u001b[0;36m1\u001b[0m\u001b[0;34m]\u001b[0m \u001b[0;34m+\u001b[0m \u001b[0mb\u001b[0m\u001b[0;34m[\u001b[0m\u001b[0;36m0\u001b[0m\u001b[0;34m]\u001b[0m \u001b[0;34m+\u001b[0m \u001b[0mb\u001b[0m\u001b[0;34m[\u001b[0m\u001b[0;36m2\u001b[0m\u001b[0;34m:\u001b[0m\u001b[0;34m]\u001b[0m \u001b[0;32mfor\u001b[0m \u001b[0ma\u001b[0m\u001b[0;34m,\u001b[0m \u001b[0mb\u001b[0m \u001b[0;32min\u001b[0m \u001b[0msplit\u001b[0m \u001b[0;32mif\u001b[0m \u001b[0mlen\u001b[0m\u001b[0;34m(\u001b[0m\u001b[0mb\u001b[0m\u001b[0;34m)\u001b[0m \u001b[0;34m>\u001b[0m \u001b[0;36m1\u001b[0m\u001b[0;34m]\u001b[0m\u001b[0;34m,\u001b[0m\u001b[0;34m\u001b[0m\u001b[0;34m\u001b[0m\u001b[0m\n\u001b[0;32m-> 1365\u001b[0;31m             \u001b[0;34m[\u001b[0m\u001b[0ma\u001b[0m \u001b[0;34m+\u001b[0m \u001b[0mc\u001b[0m \u001b[0;34m+\u001b[0m \u001b[0mb\u001b[0m\u001b[0;34m[\u001b[0m\u001b[0;36m1\u001b[0m\u001b[0;34m:\u001b[0m\u001b[0;34m]\u001b[0m \u001b[0;32mfor\u001b[0m \u001b[0ma\u001b[0m\u001b[0;34m,\u001b[0m \u001b[0mb\u001b[0m \u001b[0;32min\u001b[0m \u001b[0msplit\u001b[0m \u001b[0;32mfor\u001b[0m \u001b[0mc\u001b[0m \u001b[0;32min\u001b[0m \u001b[0mSpelling\u001b[0m\u001b[0;34m.\u001b[0m\u001b[0mALPHA\u001b[0m \u001b[0;32mif\u001b[0m \u001b[0mb\u001b[0m\u001b[0;34m]\u001b[0m\u001b[0;34m,\u001b[0m\u001b[0;34m\u001b[0m\u001b[0;34m\u001b[0m\u001b[0m\n\u001b[0m\u001b[1;32m   1366\u001b[0m             \u001b[0;34m[\u001b[0m\u001b[0ma\u001b[0m \u001b[0;34m+\u001b[0m \u001b[0mc\u001b[0m \u001b[0;34m+\u001b[0m \u001b[0mb\u001b[0m\u001b[0;34m[\u001b[0m\u001b[0;36m0\u001b[0m\u001b[0;34m:\u001b[0m\u001b[0;34m]\u001b[0m \u001b[0;32mfor\u001b[0m \u001b[0ma\u001b[0m\u001b[0;34m,\u001b[0m \u001b[0mb\u001b[0m \u001b[0;32min\u001b[0m \u001b[0msplit\u001b[0m \u001b[0;32mfor\u001b[0m \u001b[0mc\u001b[0m \u001b[0;32min\u001b[0m \u001b[0mSpelling\u001b[0m\u001b[0;34m.\u001b[0m\u001b[0mALPHA\u001b[0m\u001b[0;34m]\u001b[0m\u001b[0;34m\u001b[0m\u001b[0;34m\u001b[0m\u001b[0m\n\u001b[1;32m   1367\u001b[0m         )\n",
            "\u001b[0;31mKeyboardInterrupt\u001b[0m: "
          ]
        }
      ]
    },
    {
      "cell_type": "code",
      "metadata": {
        "id": "TwpCcfDy73sV"
      },
      "source": [
        "df = pd.DataFrame.from_dict(documents , orient='index' , columns=['Id','Tweets'])\n",
        "df[df['Id'] == \"703806e5-f04b-4e7c-8456-7340784ecf76\"]['Tweets']"
      ],
      "execution_count": null,
      "outputs": []
    },
    {
      "cell_type": "code",
      "metadata": {
        "id": "M8upa02GBV0E"
      },
      "source": [
        "#input file\n",
        "fin = open(\"/content/Dataset/truth.txt\", \"rt\")\n",
        "#output file to write the result to\n",
        "fout = open(\"out.txt\", \"wt\")\n",
        "#for each line in the input file\n",
        "for line in fin:\n",
        "\t#read replace the string and write to output file\n",
        "\tfout.write(line.replace(':::', ','))\n",
        "#close input and output files\n",
        "fin.close()\n",
        "fout.close()"
      ],
      "execution_count": null,
      "outputs": []
    },
    {
      "cell_type": "code",
      "metadata": {
        "id": "QWBSoU5dsSAU"
      },
      "source": [
        "\n",
        "def prepend_line(file_name, line):\n",
        "    \"\"\" Insert given string as a new line at the beginning of a file \"\"\"\n",
        "    # define name of temporary dummy file\n",
        "    dummy_file = file_name + '.txt'\n",
        "    # open original file in read mode and dummy file in write mode\n",
        "    with open(file_name, 'r') as read_obj, open(dummy_file, 'w') as write_obj:\n",
        "        # Write given line to the dummy file\n",
        "        write_obj.write(line + '\\n')\n",
        "        # Read lines from original file one by one and append them to the dummy file\n",
        "        for line in read_obj:\n",
        "            write_obj.write(line)\n",
        "    # remove original file\n",
        "    os.remove(file_name)\n",
        "    # Rename dummy file as the original file\n",
        "    os.rename(dummy_file, file_name)\n",
        "\n",
        "prepend_line(\"out.txt\", \"Id,Sex,Age,V,X,Y,Z,W\")"
      ],
      "execution_count": null,
      "outputs": []
    },
    {
      "cell_type": "code",
      "metadata": {
        "id": "hZf1yWKWto1U"
      },
      "source": [
        "truth = pd.read_csv(\"out.txt\")\n",
        "# storing this dataframe in a csv file\n",
        "truth.to_csv('out.csv', index = None)\n",
        "truth.head()"
      ],
      "execution_count": null,
      "outputs": []
    },
    {
      "cell_type": "code",
      "metadata": {
        "id": "IQMEjK5jufFf"
      },
      "source": [
        "data = pd.merge(df, truth, on=\"Id\")\n",
        "data.size"
      ],
      "execution_count": null,
      "outputs": []
    },
    {
      "cell_type": "code",
      "metadata": {
        "id": "TklTd0lzwz_P"
      },
      "source": [
        "data['Age'].unique()"
      ],
      "execution_count": null,
      "outputs": []
    },
    {
      "cell_type": "code",
      "source": [
        "!pip install demoji"
      ],
      "metadata": {
        "id": "aL3fGXFy32ty"
      },
      "execution_count": null,
      "outputs": []
    },
    {
      "cell_type": "code",
      "metadata": {
        "id": "-eIc0X7RyjhP"
      },
      "source": [
        "import demoji\n",
        "data_copy = data.copy()\n",
        "target_columns = ['Tweets','Age']\n",
        "data_copy = data_copy[target_columns]\n",
        "data_copy.head()\n",
        "t = data_copy['Tweets'][5]\n",
        "demoji.findall(t)"
      ],
      "execution_count": null,
      "outputs": []
    },
    {
      "cell_type": "code",
      "metadata": {
        "id": "PXuYyAwrzBRh"
      },
      "source": [
        "# Explore data\n",
        "print(data_copy['Age'].unique())\n",
        "print(\"All types : \",list(set(data_copy.dtypes.tolist())))"
      ],
      "execution_count": null,
      "outputs": []
    },
    {
      "cell_type": "code",
      "metadata": {
        "id": "AoOZCrO6zbGu"
      },
      "source": [
        "# To check missing values\n",
        "print('Sum : \\n',data_copy.isnull().sum())\n",
        "sns.heatmap(data_copy.isnull(), cbar=False, yticklabels=False, cmap=\"viridis\")"
      ],
      "execution_count": null,
      "outputs": []
    },
    {
      "cell_type": "code",
      "metadata": {
        "id": "kFhEI7dZz3qD"
      },
      "source": [
        "# Dropping the duplicate rows\n",
        "duplicate_rows = data_copy[data_copy.duplicated()]\n",
        "print(\"number of duplicate rows : \",duplicate_rows.shape)\n",
        "\n",
        "data_copy.drop_duplicates(inplace=True)\n",
        "print(\"number of duplicate rows : \",data_copy[data_copy.duplicated()].shape)"
      ],
      "execution_count": null,
      "outputs": []
    },
    {
      "cell_type": "code",
      "metadata": {
        "id": "xi3BTWMx0X7t"
      },
      "source": [
        "# data visualization\n",
        "sns.countplot(data_copy['Age'])"
      ],
      "execution_count": null,
      "outputs": []
    },
    {
      "cell_type": "code",
      "metadata": {
        "id": "u9eyNmwv3bdB"
      },
      "source": [
        "data_copy[\"Age\"] = data_copy[\"Age\"].map({\"18-24\":1, \"25-34\":int(2), \"35-49\":int(3), \"50-XX\":int(4)})\n",
        "print(data_copy.head())"
      ],
      "execution_count": null,
      "outputs": []
    },
    {
      "cell_type": "markdown",
      "metadata": {
        "id": "Zjsea5CG4Djl"
      },
      "source": [
        "# Models Implementation"
      ]
    },
    {
      "cell_type": "code",
      "metadata": {
        "colab": {
          "base_uri": "https://localhost:8080/",
          "height": 412
        },
        "id": "YhBKB6o24G58",
        "outputId": "94446d6e-3c4c-4943-8708-e367f4ec6ebb"
      },
      "source": [
        "from sklearn.feature_extraction.text import TfidfVectorizer , CountVectorizer\n",
        "from sklearn.metrics import accuracy_score\n",
        "\n",
        "Y = data_copy[\"Age\"].values\n",
        "# split the dataset into training data and test data\n",
        "from sklearn.model_selection import train_test_split\n",
        "X_train_NB, X_test_NB, Y_train_NB, Y_test_NB = train_test_split(data_copy, Y, \n",
        "                        test_size= 0.20, random_state=100, stratify=Y) # 0.35 ==> SVM : 76\n",
        "\n",
        "vec = CountVectorizer()\n",
        "train_vectors = vec.fit_transform(X_train_NB['Tweets'])\n",
        "test_vectors = vec.transform(X_test_NB['Tweets'])\n",
        "\n",
        "print(\"train data : \", train_vectors.shape)\n",
        "print(\"test data : \", test_vectors.shape)"
      ],
      "execution_count": null,
      "outputs": [
        {
          "output_type": "error",
          "ename": "ValueError",
          "evalue": "ignored",
          "traceback": [
            "\u001b[0;31m---------------------------------------------------------------------------\u001b[0m",
            "\u001b[0;31mValueError\u001b[0m                                Traceback (most recent call last)",
            "\u001b[0;32m<ipython-input-63-a29bdfc00e9d>\u001b[0m in \u001b[0;36m<module>\u001b[0;34m()\u001b[0m\n\u001b[1;32m      6\u001b[0m \u001b[0;32mfrom\u001b[0m \u001b[0msklearn\u001b[0m\u001b[0;34m.\u001b[0m\u001b[0mmodel_selection\u001b[0m \u001b[0;32mimport\u001b[0m \u001b[0mtrain_test_split\u001b[0m\u001b[0;34m\u001b[0m\u001b[0;34m\u001b[0m\u001b[0m\n\u001b[1;32m      7\u001b[0m X_train_NB, X_test_NB, Y_train_NB, Y_test_NB = train_test_split(data_copy, Y, \n\u001b[0;32m----> 8\u001b[0;31m                         test_size= 0.20, random_state=100, stratify=Y) # 0.35 ==> SVM : 76\n\u001b[0m\u001b[1;32m      9\u001b[0m \u001b[0;34m\u001b[0m\u001b[0m\n\u001b[1;32m     10\u001b[0m \u001b[0mvec\u001b[0m \u001b[0;34m=\u001b[0m \u001b[0mCountVectorizer\u001b[0m\u001b[0;34m(\u001b[0m\u001b[0;34m)\u001b[0m\u001b[0;34m\u001b[0m\u001b[0;34m\u001b[0m\u001b[0m\n",
            "\u001b[0;32m/usr/local/lib/python3.7/dist-packages/sklearn/model_selection/_split.py\u001b[0m in \u001b[0;36mtrain_test_split\u001b[0;34m(test_size, train_size, random_state, shuffle, stratify, *arrays)\u001b[0m\n\u001b[1;32m   2439\u001b[0m         \u001b[0mcv\u001b[0m \u001b[0;34m=\u001b[0m \u001b[0mCVClass\u001b[0m\u001b[0;34m(\u001b[0m\u001b[0mtest_size\u001b[0m\u001b[0;34m=\u001b[0m\u001b[0mn_test\u001b[0m\u001b[0;34m,\u001b[0m \u001b[0mtrain_size\u001b[0m\u001b[0;34m=\u001b[0m\u001b[0mn_train\u001b[0m\u001b[0;34m,\u001b[0m \u001b[0mrandom_state\u001b[0m\u001b[0;34m=\u001b[0m\u001b[0mrandom_state\u001b[0m\u001b[0;34m)\u001b[0m\u001b[0;34m\u001b[0m\u001b[0;34m\u001b[0m\u001b[0m\n\u001b[1;32m   2440\u001b[0m \u001b[0;34m\u001b[0m\u001b[0m\n\u001b[0;32m-> 2441\u001b[0;31m         \u001b[0mtrain\u001b[0m\u001b[0;34m,\u001b[0m \u001b[0mtest\u001b[0m \u001b[0;34m=\u001b[0m \u001b[0mnext\u001b[0m\u001b[0;34m(\u001b[0m\u001b[0mcv\u001b[0m\u001b[0;34m.\u001b[0m\u001b[0msplit\u001b[0m\u001b[0;34m(\u001b[0m\u001b[0mX\u001b[0m\u001b[0;34m=\u001b[0m\u001b[0marrays\u001b[0m\u001b[0;34m[\u001b[0m\u001b[0;36m0\u001b[0m\u001b[0;34m]\u001b[0m\u001b[0;34m,\u001b[0m \u001b[0my\u001b[0m\u001b[0;34m=\u001b[0m\u001b[0mstratify\u001b[0m\u001b[0;34m)\u001b[0m\u001b[0;34m)\u001b[0m\u001b[0;34m\u001b[0m\u001b[0;34m\u001b[0m\u001b[0m\n\u001b[0m\u001b[1;32m   2442\u001b[0m \u001b[0;34m\u001b[0m\u001b[0m\n\u001b[1;32m   2443\u001b[0m     return list(\n",
            "\u001b[0;32m/usr/local/lib/python3.7/dist-packages/sklearn/model_selection/_split.py\u001b[0m in \u001b[0;36msplit\u001b[0;34m(self, X, y, groups)\u001b[0m\n\u001b[1;32m   1598\u001b[0m         \"\"\"\n\u001b[1;32m   1599\u001b[0m         \u001b[0mX\u001b[0m\u001b[0;34m,\u001b[0m \u001b[0my\u001b[0m\u001b[0;34m,\u001b[0m \u001b[0mgroups\u001b[0m \u001b[0;34m=\u001b[0m \u001b[0mindexable\u001b[0m\u001b[0;34m(\u001b[0m\u001b[0mX\u001b[0m\u001b[0;34m,\u001b[0m \u001b[0my\u001b[0m\u001b[0;34m,\u001b[0m \u001b[0mgroups\u001b[0m\u001b[0;34m)\u001b[0m\u001b[0;34m\u001b[0m\u001b[0;34m\u001b[0m\u001b[0m\n\u001b[0;32m-> 1600\u001b[0;31m         \u001b[0;32mfor\u001b[0m \u001b[0mtrain\u001b[0m\u001b[0;34m,\u001b[0m \u001b[0mtest\u001b[0m \u001b[0;32min\u001b[0m \u001b[0mself\u001b[0m\u001b[0;34m.\u001b[0m\u001b[0m_iter_indices\u001b[0m\u001b[0;34m(\u001b[0m\u001b[0mX\u001b[0m\u001b[0;34m,\u001b[0m \u001b[0my\u001b[0m\u001b[0;34m,\u001b[0m \u001b[0mgroups\u001b[0m\u001b[0;34m)\u001b[0m\u001b[0;34m:\u001b[0m\u001b[0;34m\u001b[0m\u001b[0;34m\u001b[0m\u001b[0m\n\u001b[0m\u001b[1;32m   1601\u001b[0m             \u001b[0;32myield\u001b[0m \u001b[0mtrain\u001b[0m\u001b[0;34m,\u001b[0m \u001b[0mtest\u001b[0m\u001b[0;34m\u001b[0m\u001b[0;34m\u001b[0m\u001b[0m\n\u001b[1;32m   1602\u001b[0m \u001b[0;34m\u001b[0m\u001b[0m\n",
            "\u001b[0;32m/usr/local/lib/python3.7/dist-packages/sklearn/model_selection/_split.py\u001b[0m in \u001b[0;36m_iter_indices\u001b[0;34m(self, X, y, groups)\u001b[0m\n\u001b[1;32m   1939\u001b[0m         \u001b[0;32mif\u001b[0m \u001b[0mnp\u001b[0m\u001b[0;34m.\u001b[0m\u001b[0mmin\u001b[0m\u001b[0;34m(\u001b[0m\u001b[0mclass_counts\u001b[0m\u001b[0;34m)\u001b[0m \u001b[0;34m<\u001b[0m \u001b[0;36m2\u001b[0m\u001b[0;34m:\u001b[0m\u001b[0;34m\u001b[0m\u001b[0;34m\u001b[0m\u001b[0m\n\u001b[1;32m   1940\u001b[0m             raise ValueError(\n\u001b[0;32m-> 1941\u001b[0;31m                 \u001b[0;34m\"The least populated class in y has only 1\"\u001b[0m\u001b[0;34m\u001b[0m\u001b[0;34m\u001b[0m\u001b[0m\n\u001b[0m\u001b[1;32m   1942\u001b[0m                 \u001b[0;34m\" member, which is too few. The minimum\"\u001b[0m\u001b[0;34m\u001b[0m\u001b[0;34m\u001b[0m\u001b[0m\n\u001b[1;32m   1943\u001b[0m                 \u001b[0;34m\" number of groups for any class cannot\"\u001b[0m\u001b[0;34m\u001b[0m\u001b[0;34m\u001b[0m\u001b[0m\n",
            "\u001b[0;31mValueError\u001b[0m: The least populated class in y has only 1 member, which is too few. The minimum number of groups for any class cannot be less than 2."
          ]
        }
      ]
    },
    {
      "cell_type": "markdown",
      "metadata": {
        "id": "0O1SibhiXRGu"
      },
      "source": [
        "# Naive Bayes"
      ]
    },
    {
      "cell_type": "code",
      "metadata": {
        "colab": {
          "base_uri": "https://localhost:8080/",
          "height": 825
        },
        "id": "pPVFtiWq4O_A",
        "outputId": "71a41e38-b13b-4fc8-8164-29bbe0174750"
      },
      "source": [
        "# Classify using Naive Bayes \n",
        "# with tfidf : 0.58 , with countVec 0.71 || First method when combining user's tweets\n",
        "from sklearn.model_selection import cross_val_score\n",
        "from sklearn.naive_bayes import MultinomialNB\n",
        "MNB_clf = MultinomialNB(alpha=0.5)\n",
        "\n",
        "# fit model no training data\n",
        "MNB_clf.fit(train_vectors, Y_train_NB)\n",
        "\n",
        "# making predictions on the testing set \n",
        "predicted = MNB_clf.predict(test_vectors)\n",
        "\n",
        "# Classification report\n",
        "from sklearn import metrics\n",
        "print(\"Classification report : \\n\", MNB_clf,\"\\n\", \n",
        "      metrics.classification_report(Y_test_NB, predicted))\n",
        "disp = metrics.plot_confusion_matrix(MNB_clf, test_vectors, Y_test_NB)\n",
        "disp.figure_.suptitle(\"Confusion Matrix\")\n",
        "print(\"Confusion matrix: \\n\", disp.confusion_matrix)\n",
        "\n",
        "print(\"--------------------------------------\")\n",
        "accuracies = cross_val_score(estimator = MNB_clf, X = train_vectors, y = Y_train_NB, cv = 10)\n",
        "print(\"\\nAccuracy with 10-kfold: {:.2f} %\".format(accuracies.mean()*100))\n",
        "print(\"Standard Deviation: {:.2f} %\".format(accuracies.std()*100))"
      ],
      "execution_count": null,
      "outputs": [
        {
          "output_type": "stream",
          "text": [
            "/usr/local/lib/python3.7/dist-packages/sklearn/metrics/_classification.py:1248: UndefinedMetricWarning: Precision and F-score are ill-defined and being set to 0.0 in labels with no predicted samples. Use `zero_division` parameter to control this behavior.\n",
            "  _warn_prf(average, modifier, msg_start, len(result))\n",
            "/usr/local/lib/python3.7/dist-packages/sklearn/metrics/_classification.py:1248: UndefinedMetricWarning: Precision and F-score are ill-defined and being set to 0.0 in labels with no predicted samples. Use `zero_division` parameter to control this behavior.\n",
            "  _warn_prf(average, modifier, msg_start, len(result))\n",
            "/usr/local/lib/python3.7/dist-packages/sklearn/metrics/_classification.py:1248: UndefinedMetricWarning: Precision and F-score are ill-defined and being set to 0.0 in labels with no predicted samples. Use `zero_division` parameter to control this behavior.\n",
            "  _warn_prf(average, modifier, msg_start, len(result))\n"
          ],
          "name": "stderr"
        },
        {
          "output_type": "stream",
          "text": [
            "Classification report : \n",
            " MultinomialNB(alpha=0.5) \n",
            "               precision    recall  f1-score   support\n",
            "\n",
            "           1       0.73      0.92      0.81        12\n",
            "           2       0.53      0.67      0.59        12\n",
            "           3       1.00      0.20      0.33         5\n",
            "           4       0.00      0.00      0.00         2\n",
            "\n",
            "    accuracy                           0.65        31\n",
            "   macro avg       0.57      0.45      0.44        31\n",
            "weighted avg       0.65      0.65      0.60        31\n",
            "\n",
            "Confusion matrix: \n",
            " [[11  1  0  0]\n",
            " [ 4  8  0  0]\n",
            " [ 0  4  1  0]\n",
            " [ 0  2  0  0]]\n",
            "--------------------------------------\n",
            "\n",
            "Accuracy with 10-kfold: 64.49 %\n",
            "Standard Deviation: 12.83 %\n"
          ],
          "name": "stdout"
        },
        {
          "output_type": "display_data",
          "data": {
            "image/png": "[encoded data removed]",
            "text/plain": [
              "<Figure size 432x288 with 2 Axes>"
            ]
          },
          "metadata": {
            "tags": [],
            "needs_background": "light"
          }
        }
      ]
    },
    {
      "cell_type": "markdown",
      "metadata": {
        "id": "zPrLpzK7XMGz"
      },
      "source": [
        "# Logistic Reg"
      ]
    },
    {
      "cell_type": "code",
      "metadata": {
        "colab": {
          "base_uri": "https://localhost:8080/",
          "height": 826
        },
        "id": "81B1IOVW5D2c",
        "outputId": "8ed96349-c501-40b9-8e88-cfe2767912c3"
      },
      "source": [
        "# Classify using Logistic Regression #0.71\n",
        "# with tfidf : 0.71 , with countVec 0.84\n",
        "from sklearn.model_selection import cross_val_score\n",
        "from sklearn.linear_model import LogisticRegression\n",
        "# all parameters not specified are set to their defaults\n",
        "logisticRegr = LogisticRegression(penalty='l2', dual=False, tol=0.0001, C=10, random_state=42)\n",
        "\n",
        "# fit model no training data\n",
        "logisticRegr.fit(train_vectors, Y_train_NB)\n",
        "\n",
        "# making predictions on the testing set \n",
        "predicted = logisticRegr.predict(test_vectors)\n",
        "\n",
        "# Classification report\n",
        "from sklearn import metrics\n",
        "print(\"Classification report : \\n\", logisticRegr,\"\\n\", \n",
        "      metrics.classification_report(Y_test_NB, predicted))\n",
        "disp = metrics.plot_confusion_matrix(logisticRegr, test_vectors, Y_test_NB)\n",
        "disp.figure_.suptitle(\"Confusion Matrix\")\n",
        "print(\"Confusion matrix: \\n\", disp.confusion_matrix)\n",
        "\n",
        "print(\"------------------------------------------------\")\n",
        "accuracies = cross_val_score(estimator = logisticRegr, X = train_vectors, y = Y_train_NB, cv = 10)\n",
        "print(\"\\nAccuracy with 10-kfold: {:.2f} %\".format(accuracies.mean()*100))\n",
        "print(\"Standard Deviation: {:.2f} %\".format(accuracies.std()*100))"
      ],
      "execution_count": null,
      "outputs": [
        {
          "output_type": "stream",
          "text": [
            "/usr/local/lib/python3.7/dist-packages/sklearn/metrics/_classification.py:1272: UndefinedMetricWarning: Precision and F-score are ill-defined and being set to 0.0 in labels with no predicted samples. Use `zero_division` parameter to control this behavior.\n",
            "  _warn_prf(average, modifier, msg_start, len(result))\n"
          ],
          "name": "stderr"
        },
        {
          "output_type": "stream",
          "text": [
            "Classification report : \n",
            " LogisticRegression(C=10, class_weight=None, dual=False, fit_intercept=True,\n",
            "                   intercept_scaling=1, l1_ratio=None, max_iter=100,\n",
            "                   multi_class='auto', n_jobs=None, penalty='l2',\n",
            "                   random_state=42, solver='lbfgs', tol=0.0001, verbose=0,\n",
            "                   warm_start=False) \n",
            "               precision    recall  f1-score   support\n",
            "\n",
            "           1       0.79      0.92      0.85        12\n",
            "           2       0.59      0.83      0.69        12\n",
            "           3       0.00      0.00      0.00         5\n",
            "           4       0.00      0.00      0.00         2\n",
            "\n",
            "    accuracy                           0.68        31\n",
            "   macro avg       0.34      0.44      0.38        31\n",
            "weighted avg       0.53      0.68      0.59        31\n",
            "\n",
            "Confusion matrix: \n",
            " [[11  1  0  0]\n",
            " [ 2 10  0  0]\n",
            " [ 0  5  0  0]\n",
            " [ 1  1  0  0]]\n",
            "------------------------------------------------\n",
            "\n",
            "Accuracy with 10-kfold: 71.92 %\n",
            "Standard Deviation: 9.17 %\n"
          ],
          "name": "stdout"
        },
        {
          "output_type": "display_data",
          "data": {
            "image/png": "[encoded data removed]",
            "text/plain": [
              "<Figure size 432x288 with 2 Axes>"
            ]
          },
          "metadata": {
            "tags": [],
            "needs_background": "light"
          }
        }
      ]
    },
    {
      "cell_type": "markdown",
      "metadata": {
        "id": "R8AK7IlIXX29"
      },
      "source": [
        "# SVM"
      ]
    },
    {
      "cell_type": "code",
      "metadata": {
        "colab": {
          "base_uri": "https://localhost:8080/",
          "height": 690
        },
        "id": "YdOEbHxO5HeU",
        "outputId": "810574e7-14ac-40ab-a1f9-311c32a76adc"
      },
      "source": [
        "# Classify using SVM - 0.77 after tuning 0.81 by using C=10\n",
        "# with tfidf : 0.81 , with countVec 0.81\n",
        "from sklearn.model_selection import cross_val_score\n",
        "from sklearn.svm import SVC\n",
        "import pickle\n",
        "# all parameters not specified are set to their defaults\n",
        "svmClassifier = SVC(kernel=\"rbf\", C=10, gamma=0.0001)\n",
        "#svm_classifier = SVC()\n",
        "\n",
        "\n",
        "#svm_classifier = SVC(kernel=\"poly\", degree=5, C=10, gamma=0.01)\n",
        "#svm_classifier = SVC(kernel=\"sigmoid\", C=10, gamma=0.001)\n",
        "#svm_classifier = SVC(kernel=\"rbf\", C=300, gamma=0.001)\n",
        "\n",
        "# fit model no training data\n",
        "svmClassifier.fit(train_vectors, Y_train_NB)\n",
        "\n",
        "# making predictions on the testing set \n",
        "predicted = svmClassifier.predict(test_vectors)\n",
        "\n",
        "# Classification report\n",
        "from sklearn import metrics\n",
        "print(\"Classification report : \\n\", svmClassifier,\"\\n\", \n",
        "      metrics.classification_report(Y_test_NB, predicted))\n",
        "disp = metrics.plot_confusion_matrix(svmClassifier, test_vectors, Y_test_NB)\n",
        "disp.figure_.suptitle(\"Confusion Matrix\")\n",
        "print(\"Confusion matrix: \\n\", disp.confusion_matrix)\n",
        "\n",
        "'''\n",
        "print(\"------------------------------------------------\")\n",
        "accuracies = cross_val_score(estimator = svmClassifier, X = train_vectors, y = Y_train_NB, cv = 10)\n",
        "print(\"\\nAccuracy with 10-kfold: {:.2f} %\".format(accuracies.mean()*100))\n",
        "print(\"Standard Deviation: {:.2f} %\".format(accuracies.std()*100))'''\n",
        "pickle.dump(svmClassifier, open(\"svc_model\", 'wb'))"
      ],
      "execution_count": null,
      "outputs": [
        {
          "output_type": "stream",
          "name": "stdout",
          "text": [
            "Classification report : \n",
            " SVC(C=10, gamma=0.0001) \n",
            "               precision    recall  f1-score   support\n",
            "\n",
            "           1       0.75      1.00      0.86        12\n",
            "           2       0.91      0.83      0.87        12\n",
            "           3       1.00      0.40      0.57         5\n",
            "           4       1.00      1.00      1.00         2\n",
            "\n",
            "    accuracy                           0.84        31\n",
            "   macro avg       0.91      0.81      0.82        31\n",
            "weighted avg       0.87      0.84      0.83        31\n",
            "\n",
            "Confusion matrix: \n",
            " [[12  0  0  0]\n",
            " [ 2 10  0  0]\n",
            " [ 2  1  2  0]\n",
            " [ 0  0  0  2]]\n"
          ]
        },
        {
          "output_type": "stream",
          "name": "stderr",
          "text": [
            "/usr/local/lib/python3.7/dist-packages/sklearn/utils/deprecation.py:87: FutureWarning: Function plot_confusion_matrix is deprecated; Function `plot_confusion_matrix` is deprecated in 1.0 and will be removed in 1.2. Use one of the class methods: ConfusionMatrixDisplay.from_predictions or ConfusionMatrixDisplay.from_estimator.\n",
            "  warnings.warn(msg, category=FutureWarning)\n"
          ]
        },
        {
          "output_type": "display_data",
          "data": {
            "image/png": "[encoded data removed]",
            "text/plain": [
              "<Figure size 432x288 with 2 Axes>"
            ]
          },
          "metadata": {
            "needs_background": "light"
          }
        }
      ]
    },
    {
      "cell_type": "code",
      "metadata": {
        "colab": {
          "base_uri": "https://localhost:8080/",
          "height": 472
        },
        "id": "j-sZk1diJEpE",
        "outputId": "21e1c908-3bd7-4b70-a480-092c10568621"
      },
      "source": [
        "loaded_model = pickle.load(open(\"svc_model\", 'rb'))\n",
        "result = loaded_model.score(test_vectors, Y_test_NB)\n",
        "print(result)\n",
        "\n",
        "#Classification report\n",
        "from sklearn import metrics\n",
        "disp = metrics.plot_confusion_matrix(svmClassifier, test_vectors, Y_test_NB)\n",
        "disp.figure_.suptitle(\"Confusion Matrix\")\n",
        "print(\"Confusion matrix: \\n\", disp.confusion_matrix)"
      ],
      "execution_count": null,
      "outputs": [
        {
          "output_type": "stream",
          "name": "stdout",
          "text": [
            "0.8387096774193549\n",
            "Confusion matrix: \n",
            " [[12  0  0  0]\n",
            " [ 2 10  0  0]\n",
            " [ 2  1  2  0]\n",
            " [ 0  0  0  2]]\n"
          ]
        },
        {
          "output_type": "stream",
          "name": "stderr",
          "text": [
            "/usr/local/lib/python3.7/dist-packages/sklearn/utils/deprecation.py:87: FutureWarning: Function plot_confusion_matrix is deprecated; Function `plot_confusion_matrix` is deprecated in 1.0 and will be removed in 1.2. Use one of the class methods: ConfusionMatrixDisplay.from_predictions or ConfusionMatrixDisplay.from_estimator.\n",
            "  warnings.warn(msg, category=FutureWarning)\n"
          ]
        },
        {
          "output_type": "display_data",
          "data": {
            "image/png": "[encoded data removed]",
            "text/plain": [
              "<Figure size 432x288 with 2 Axes>"
            ]
          },
          "metadata": {
            "needs_background": "light"
          }
        }
      ]
    },
    {
      "cell_type": "markdown",
      "metadata": {
        "id": "ykLXMXrFXdZW"
      },
      "source": [
        "# KNN"
      ]
    },
    {
      "cell_type": "code",
      "metadata": {
        "colab": {
          "base_uri": "https://localhost:8080/",
          "height": 718
        },
        "id": "RH4mGZKu5Lsh",
        "outputId": "c8cefe52-feb3-4e1e-dcc0-a2073c05c6a3"
      },
      "source": [
        "# Classify using KNN 0.65\n",
        "# with tfidf : 0.65 , with countVec 0.52\n",
        "\n",
        "from sklearn.model_selection import cross_val_score\n",
        "from sklearn.neighbors import KNeighborsClassifier \n",
        "\n",
        "# Create the classifier\n",
        "\"\"\"\n",
        "algorithm{‘auto’, ‘ball_tree’, ‘kd_tree’, ‘brute’}, default=’auto’\n",
        "Algorithm used to compute the nearest neighbors:\n",
        "\n",
        "‘ball_tree’ will use BallTree\n",
        "\n",
        "‘kd_tree’ will use KDTree\n",
        "\n",
        "‘brute’ will use a brute-force search.\n",
        "\n",
        "‘auto’ will attempt to decide the most appropriate algorithm based on the \n",
        "values passed to fit method.\n",
        "\"\"\"\n",
        "knn_cls = KNeighborsClassifier(n_neighbors = 10) # 77%\n",
        "\n",
        "# Train the classifier\n",
        "knn_cls.fit(train_vectors,Y_train_NB)\n",
        "\n",
        "# Predict the value of X_test\n",
        "predicted = knn_cls.predict(test_vectors)\n",
        "\n",
        "# Classification report\n",
        "from sklearn import metrics\n",
        "print(\"Classifier : \", knn_cls)\n",
        "print(\"Classification report for classifier : \\n\",\n",
        "      metrics.classification_report(Y_test_NB, predicted))\n",
        "\n",
        "disp = metrics.plot_confusion_matrix(knn_cls, test_vectors, Y_test_NB)\n",
        "disp.figure_.suptitle(\"Confusion Matrix\")\n",
        "print(\"Confusion matrix: \\n\", disp.confusion_matrix)\n",
        "\n",
        "'''\n",
        "print(\"-------------------------------------------\")\n",
        "accuracies = cross_val_score(estimator = knn_cls, X = train_vectors, y = Y_train_NB, cv = 10)\n",
        "print(\"\\nAccuracy with 10-kfold: {:.2f} %\".format(accuracies.mean()*100))\n",
        "print(\"Standard Deviation: {:.2f} %\".format(accuracies.std()*100))'''"
      ],
      "execution_count": null,
      "outputs": [
        {
          "output_type": "stream",
          "text": [
            "Classifier :  KNeighborsClassifier(algorithm='auto', leaf_size=30, metric='minkowski',\n",
            "                     metric_params=None, n_jobs=None, n_neighbors=10, p=2,\n",
            "                     weights='uniform')\n",
            "Classification report for classifier : \n",
            "               precision    recall  f1-score   support\n",
            "\n",
            "           1       0.55      1.00      0.71        12\n",
            "           2       0.71      0.42      0.53        12\n",
            "           3       1.00      0.20      0.33         5\n",
            "           4       1.00      0.50      0.67         2\n",
            "\n",
            "    accuracy                           0.61        31\n",
            "   macro avg       0.81      0.53      0.56        31\n",
            "weighted avg       0.71      0.61      0.57        31\n",
            "\n",
            "Confusion matrix: \n",
            " [[12  0  0  0]\n",
            " [ 7  5  0  0]\n",
            " [ 2  2  1  0]\n",
            " [ 1  0  0  1]]\n"
          ],
          "name": "stdout"
        },
        {
          "output_type": "execute_result",
          "data": {
            "application/vnd.google.colaboratory.intrinsic+json": {
              "type": "string"
            },
            "text/plain": [
              "'\\nprint(\"-------------------------------------------\")\\naccuracies = cross_val_score(estimator = knn_cls, X = train_vectors, y = Y_train_NB, cv = 10)\\nprint(\"\\nAccuracy with 10-kfold: {:.2f} %\".format(accuracies.mean()*100))\\nprint(\"Standard Deviation: {:.2f} %\".format(accuracies.std()*100))'"
            ]
          },
          "metadata": {
            "tags": []
          },
          "execution_count": 37
        },
        {
          "output_type": "display_data",
          "data": {
            "image/png": "[encoded data removed]",
            "text/plain": [
              "<Figure size 432x288 with 2 Axes>"
            ]
          },
          "metadata": {
            "tags": [],
            "needs_background": "light"
          }
        }
      ]
    },
    {
      "cell_type": "markdown",
      "metadata": {
        "id": "pEbJZb88Xgpx"
      },
      "source": [
        "# SGD"
      ]
    },
    {
      "cell_type": "code",
      "metadata": {
        "colab": {
          "base_uri": "https://localhost:8080/",
          "height": 844
        },
        "id": "zw9sYLSC5at0",
        "outputId": "78379f88-46bf-470f-bb04-e00c74886e5c"
      },
      "source": [
        "# Classify using SGD 0.81\n",
        "# with tfidf : 0.81 , with countVec 0.84\n",
        "\n",
        "from sklearn.model_selection import cross_val_score\n",
        "from sklearn.linear_model import SGDClassifier\n",
        "# all parameters not specified are set to their defaults\n",
        "sgdClassifier = SGDClassifier(random_state=42)\n",
        "\n",
        "# fit model no training data\n",
        "sgdClassifier.fit(train_vectors, Y_train_NB)\n",
        "\n",
        "# making predictions on the testing set \n",
        "predicted = sgdClassifier.predict(test_vectors)\n",
        "\n",
        "# Classification report\n",
        "from sklearn import metrics\n",
        "print(\"Classification report : \\n\", sgdClassifier,\"\\n\", \n",
        "      metrics.classification_report(Y_test_NB, predicted))\n",
        "disp = metrics.plot_confusion_matrix(sgdClassifier, test_vectors, Y_test_NB)\n",
        "disp.figure_.suptitle(\"Confusion Matrix\")\n",
        "print(\"Confusion matrix: \\n\", disp.confusion_matrix)\n",
        "\n",
        "print(\"-------------------------------------------\")\n",
        "accuracies = cross_val_score(estimator = sgdClassifier, X = train_vectors, y = Y_train_NB, cv = 10)\n",
        "print(\"\\nAccuracy with 10-kfold: {:.2f} %\".format(accuracies.mean()*100))\n",
        "print(\"Standard Deviation: {:.2f} %\".format(accuracies.std()*100))"
      ],
      "execution_count": null,
      "outputs": [
        {
          "output_type": "stream",
          "text": [
            "/usr/local/lib/python3.7/dist-packages/sklearn/metrics/_classification.py:1272: UndefinedMetricWarning: Precision and F-score are ill-defined and being set to 0.0 in labels with no predicted samples. Use `zero_division` parameter to control this behavior.\n",
            "  _warn_prf(average, modifier, msg_start, len(result))\n"
          ],
          "name": "stderr"
        },
        {
          "output_type": "stream",
          "text": [
            "Classification report : \n",
            " SGDClassifier(alpha=0.0001, average=False, class_weight=None,\n",
            "              early_stopping=False, epsilon=0.1, eta0=0.0, fit_intercept=True,\n",
            "              l1_ratio=0.15, learning_rate='optimal', loss='hinge',\n",
            "              max_iter=1000, n_iter_no_change=5, n_jobs=None, penalty='l2',\n",
            "              power_t=0.5, random_state=42, shuffle=True, tol=0.001,\n",
            "              validation_fraction=0.1, verbose=0, warm_start=False) \n",
            "               precision    recall  f1-score   support\n",
            "\n",
            "           1       1.00      0.92      0.96        12\n",
            "           2       0.63      1.00      0.77        12\n",
            "           3       0.00      0.00      0.00         5\n",
            "           4       1.00      0.50      0.67         2\n",
            "\n",
            "    accuracy                           0.77        31\n",
            "   macro avg       0.66      0.60      0.60        31\n",
            "weighted avg       0.70      0.77      0.71        31\n",
            "\n",
            "Confusion matrix: \n",
            " [[11  1  0  0]\n",
            " [ 0 12  0  0]\n",
            " [ 0  5  0  0]\n",
            " [ 0  1  0  1]]\n",
            "-------------------------------------------\n",
            "\n",
            "Accuracy with 10-kfold: 69.36 %\n",
            "Standard Deviation: 10.69 %\n"
          ],
          "name": "stdout"
        },
        {
          "output_type": "display_data",
          "data": {
            "image/png": "[encoded data removed]",
            "text/plain": [
              "<Figure size 432x288 with 2 Axes>"
            ]
          },
          "metadata": {
            "tags": [],
            "needs_background": "light"
          }
        }
      ]
    },
    {
      "cell_type": "markdown",
      "metadata": {
        "id": "L11S8dH2Xj-8"
      },
      "source": [
        "# XGBoosting"
      ]
    },
    {
      "cell_type": "code",
      "metadata": {
        "colab": {
          "base_uri": "https://localhost:8080/",
          "height": 862
        },
        "id": "rdHy0xKy5fVE",
        "outputId": "ed6307a8-9355-43ab-d726-c9ef75a4fde1"
      },
      "source": [
        "# Classify using XGBoosting 0.65\n",
        "# with tfidf : 0.65 , with countVec 0.71\n",
        "\n",
        "from sklearn.model_selection import cross_val_score\n",
        "from xgboost import XGBClassifier\n",
        "XG_clf = XGBClassifier(random_state=100)\n",
        "\n",
        "# fit model no training data\n",
        "XG_clf.fit(train_vectors, Y_train_NB)\n",
        "\n",
        "# make predictions for test data\n",
        "y_pred = XG_clf.predict(test_vectors)\n",
        "predicted = [round(value) for value in y_pred]\n",
        "\n",
        "# Classification report\n",
        "from sklearn import metrics\n",
        "print(\"Classification report : \\n\", XG_clf,\"\\n\", \n",
        "      metrics.classification_report(Y_test_NB, predicted))\n",
        "disp = metrics.plot_confusion_matrix(XG_clf, test_vectors, Y_test_NB)\n",
        "disp.figure_.suptitle(\"Confusion Matrix\")\n",
        "print(\"Confusion matrix: \\n\", disp.confusion_matrix)\n",
        "\n",
        "print(\"------------------------------------------------\")\n",
        "accuracies = cross_val_score(estimator = svmClassifier, X = train_vectors, y = Y_train_NB, cv = 10)\n",
        "print(\"\\nAccuracy with 10-kfold: {:.2f} %\".format(accuracies.mean()*100))\n",
        "print(\"Standard Deviation: {:.2f} %\".format(accuracies.std()*100))"
      ],
      "execution_count": null,
      "outputs": [
        {
          "output_type": "stream",
          "text": [
            "/usr/local/lib/python3.7/dist-packages/sklearn/metrics/_classification.py:1272: UndefinedMetricWarning: Precision and F-score are ill-defined and being set to 0.0 in labels with no predicted samples. Use `zero_division` parameter to control this behavior.\n",
            "  _warn_prf(average, modifier, msg_start, len(result))\n"
          ],
          "name": "stderr"
        },
        {
          "output_type": "stream",
          "text": [
            "Classification report : \n",
            " XGBClassifier(base_score=0.5, booster='gbtree', colsample_bylevel=1,\n",
            "              colsample_bynode=1, colsample_bytree=1, gamma=0,\n",
            "              learning_rate=0.1, max_delta_step=0, max_depth=3,\n",
            "              min_child_weight=1, missing=None, n_estimators=100, n_jobs=1,\n",
            "              nthread=None, objective='multi:softprob', random_state=100,\n",
            "              reg_alpha=0, reg_lambda=1, scale_pos_weight=1, seed=None,\n",
            "              silent=None, subsample=1, verbosity=1) \n",
            "               precision    recall  f1-score   support\n",
            "\n",
            "           1       0.79      0.92      0.85        12\n",
            "           2       0.59      0.83      0.69        12\n",
            "           3       0.00      0.00      0.00         5\n",
            "           4       0.00      0.00      0.00         2\n",
            "\n",
            "    accuracy                           0.68        31\n",
            "   macro avg       0.34      0.44      0.38        31\n",
            "weighted avg       0.53      0.68      0.59        31\n",
            "\n",
            "Confusion matrix: \n",
            " [[11  1  0  0]\n",
            " [ 2 10  0  0]\n",
            " [ 0  5  0  0]\n",
            " [ 1  1  0  0]]\n",
            "------------------------------------------------\n",
            "\n",
            "Accuracy with 10-kfold: 75.19 %\n",
            "Standard Deviation: 8.35 %\n"
          ],
          "name": "stdout"
        },
        {
          "output_type": "display_data",
          "data": {
            "image/png": "[encoded data removed]",
            "text/plain": [
              "<Figure size 432x288 with 2 Axes>"
            ]
          },
          "metadata": {
            "tags": [],
            "needs_background": "light"
          }
        }
      ]
    },
    {
      "cell_type": "markdown",
      "metadata": {
        "id": "VOTTFmolXmuW"
      },
      "source": [
        "# MLP"
      ]
    },
    {
      "cell_type": "code",
      "metadata": {
        "colab": {
          "base_uri": "https://localhost:8080/",
          "height": 808
        },
        "id": "EQr3bt3t5lgG",
        "outputId": "60feb10a-c402-4cb7-8408-2b1e297896f3"
      },
      "source": [
        "# Classify using MLPClassifier 0.81(50/100,50)\n",
        "# with tfidf : 0.81 , with countVec 0.84(100,50) 0.87(100,50,50)\n",
        "\n",
        "from sklearn.neural_network import MLPClassifier\n",
        "\n",
        "mlp = MLPClassifier(hidden_layer_sizes=(100,50, ), batch_size=64,\n",
        "                    solver=\"adam\", alpha=0.005, activation=\"logistic\", \n",
        "                    max_iter=50000, random_state=42)\n",
        "\n",
        "\n",
        "# fit model no training data\n",
        "mlp.fit(train_vectors, Y_train_NB)\n",
        "\n",
        "# make predictions for test data\n",
        "predicted = mlp.predict(test_vectors)\n",
        "\n",
        "# Classification report\n",
        "from sklearn import metrics\n",
        "print(\"Classification report : \\n\", mlp,\"\\n\", \n",
        "      metrics.classification_report(Y_test_NB, predicted))\n",
        "disp = metrics.plot_confusion_matrix(mlp, test_vectors, Y_test_NB)\n",
        "disp.figure_.suptitle(\"Confusion Matrix\")\n",
        "print(\"Confusion matrix: \\n\", disp.confusion_matrix)\n"
      ],
      "execution_count": null,
      "outputs": [
        {
          "output_type": "stream",
          "text": [
            "/usr/local/lib/python3.7/dist-packages/sklearn/metrics/_classification.py:1272: UndefinedMetricWarning: Precision and F-score are ill-defined and being set to 0.0 in labels with no predicted samples. Use `zero_division` parameter to control this behavior.\n",
            "  _warn_prf(average, modifier, msg_start, len(result))\n"
          ],
          "name": "stderr"
        },
        {
          "output_type": "stream",
          "text": [
            "Classification report : \n",
            " MLPClassifier(activation='logistic', alpha=0.005, batch_size=64, beta_1=0.9,\n",
            "              beta_2=0.999, early_stopping=False, epsilon=1e-08,\n",
            "              hidden_layer_sizes=(100, 50), learning_rate='constant',\n",
            "              learning_rate_init=0.001, max_fun=15000, max_iter=50000,\n",
            "              momentum=0.9, n_iter_no_change=10, nesterovs_momentum=True,\n",
            "              power_t=0.5, random_state=42, shuffle=True, solver='adam',\n",
            "              tol=0.0001, validation_fraction=0.1, verbose=False,\n",
            "              warm_start=False) \n",
            "               precision    recall  f1-score   support\n",
            "\n",
            "           1       0.86      1.00      0.92        12\n",
            "           2       0.67      0.83      0.74        12\n",
            "           3       0.00      0.00      0.00         5\n",
            "           4       0.50      0.50      0.50         2\n",
            "\n",
            "    accuracy                           0.74        31\n",
            "   macro avg       0.51      0.58      0.54        31\n",
            "weighted avg       0.62      0.74      0.68        31\n",
            "\n",
            "Confusion matrix: \n",
            " [[12  0  0  0]\n",
            " [ 2 10  0  0]\n",
            " [ 0  4  0  1]\n",
            " [ 0  1  0  1]]\n"
          ],
          "name": "stdout"
        },
        {
          "output_type": "display_data",
          "data": {
            "image/png": "[encoded data removed]",
            "text/plain": [
              "<Figure size 432x288 with 2 Axes>"
            ]
          },
          "metadata": {
            "tags": [],
            "needs_background": "light"
          }
        }
      ]
    },
    {
      "cell_type": "markdown",
      "metadata": {
        "id": "zDEfyoeOXpkf"
      },
      "source": [
        "# Random Forest"
      ]
    },
    {
      "cell_type": "code",
      "metadata": {
        "colab": {
          "base_uri": "https://localhost:8080/",
          "height": 808
        },
        "id": "u1cpU9rEO-_0",
        "outputId": "f54ec08e-05de-4a5b-af96-b7f5fc254a85"
      },
      "source": [
        "from sklearn.ensemble import RandomForestClassifier\n",
        "from sklearn import metrics\n",
        "\n",
        "# training the model on training set\n",
        "\n",
        "# n_estimators : The number of trees in the forest.\n",
        "# max_depth : The maximum depth of the tree.\n",
        "# n_jobsint : The number of jobs to run in parallel\n",
        "rf_clf = RandomForestClassifier(n_estimators=50, max_depth=10)\n",
        "rf_clf.fit(train_vectors,Y_train_NB)\n",
        "\n",
        "# making predictions on the testing set \n",
        "predicted = rf_clf.predict(test_vectors)\n",
        "\n",
        "# comparing actual response values (y_test) with predicted response values (predicted)\n",
        "print(\"Classification report : \\n\", rf_clf,\"\\n\", metrics.classification_report(Y_test_NB, predicted))\n",
        "disp = metrics.plot_confusion_matrix(rf_clf, test_vectors, Y_test_NB)\n",
        "disp.figure_.suptitle(\"Confusion Matrix\")\n",
        "print(\"Confusion matrix: \\n\", disp.confusion_matrix)\n"
      ],
      "execution_count": null,
      "outputs": [
        {
          "output_type": "stream",
          "text": [
            "/usr/local/lib/python3.7/dist-packages/sklearn/metrics/_classification.py:1272: UndefinedMetricWarning: Precision and F-score are ill-defined and being set to 0.0 in labels with no predicted samples. Use `zero_division` parameter to control this behavior.\n",
            "  _warn_prf(average, modifier, msg_start, len(result))\n"
          ],
          "name": "stderr"
        },
        {
          "output_type": "stream",
          "text": [
            "Classification report : \n",
            " RandomForestClassifier(bootstrap=True, ccp_alpha=0.0, class_weight=None,\n",
            "                       criterion='gini', max_depth=10, max_features='auto',\n",
            "                       max_leaf_nodes=None, max_samples=None,\n",
            "                       min_impurity_decrease=0.0, min_impurity_split=None,\n",
            "                       min_samples_leaf=1, min_samples_split=2,\n",
            "                       min_weight_fraction_leaf=0.0, n_estimators=50,\n",
            "                       n_jobs=None, oob_score=False, random_state=None,\n",
            "                       verbose=0, warm_start=False) \n",
            "               precision    recall  f1-score   support\n",
            "\n",
            "           1       0.69      0.92      0.79        12\n",
            "           2       0.53      0.67      0.59        12\n",
            "           3       0.00      0.00      0.00         5\n",
            "           4       0.00      0.00      0.00         2\n",
            "\n",
            "    accuracy                           0.61        31\n",
            "   macro avg       0.31      0.40      0.34        31\n",
            "weighted avg       0.47      0.61      0.53        31\n",
            "\n",
            "Confusion matrix: \n",
            " [[11  1  0  0]\n",
            " [ 4  8  0  0]\n",
            " [ 0  5  0  0]\n",
            " [ 1  1  0  0]]\n"
          ],
          "name": "stdout"
        },
        {
          "output_type": "display_data",
          "data": {
            "image/png": "[encoded data removed]",
            "text/plain": [
              "<Figure size 432x288 with 2 Axes>"
            ]
          },
          "metadata": {
            "tags": [],
            "needs_background": "light"
          }
        }
      ]
    },
    {
      "cell_type": "markdown",
      "metadata": {
        "id": "-QQmKuyU7m9P"
      },
      "source": [
        "# Cross Validation"
      ]
    },
    {
      "cell_type": "code",
      "metadata": {
        "colab": {
          "base_uri": "https://localhost:8080/"
        },
        "id": "pWpC4tAn7pbG",
        "outputId": "3d229fbf-e61b-4545-e33b-7b052df70c8d"
      },
      "source": [
        "# Cross-validation\n",
        "from sklearn.feature_extraction.text import TfidfVectorizer, CountVectorizer\n",
        "from sklearn.metrics import accuracy_score\n",
        "from sklearn.svm import SVC\n",
        "from sklearn.model_selection import cross_val_score\n",
        "\n",
        "Y = data_copy[\"Age\"].values\n",
        "vec = CountVectorizer()\n",
        "\n",
        "# split the dataset into training data and test data\n",
        "from sklearn.model_selection import train_test_split\n",
        "X_train_NB, X_test_NB, Y_train_NB, Y_test_NB = train_test_split(data_copy, Y, \n",
        "                        test_size= 0.20, random_state=100, stratify=Y)\n",
        "\n",
        "\n",
        "train_vectors = vec.fit_transform(X_train_NB['Tweets'])\n",
        "test_vectors = vec.transform(X_test_NB['Tweets'])\n",
        "\n",
        "print(\"\\n K-fold Cross-Validation : *********\")\n",
        "from sklearn.model_selection import KFold\n",
        "kfold = KFold(n_splits=10, random_state=100)\n",
        "model_2 = SVC(C= 10, gamma=0.0001, kernel='rbf')\n",
        "results_model_2 = cross_val_score(model_2, train_vectors, Y_train_NB, cv=kfold)\n",
        "print(\"Scores   2 :\",results_model_2)\n",
        "print(\"Accuracy 2 :\",results_model_2.mean())\n",
        "print(\"std      2 :\",np.std(results_model_2))\n",
        "\n",
        "'''\n",
        "print(\"\\n Stratified K-fold Cross-Validation : *********\")\n",
        "from sklearn.model_selection import StratifiedKFold\n",
        "skfold = StratifiedKFold(n_splits=10, random_state=100)\n",
        "model_3 = SVC(kernel=\"linear\", C=10.0, gamma= 0.1)\n",
        "results_model_3 = cross_val_score(model_3, train_vectors, Y_train_NB[:7000], cv=skfold)\n",
        "print(\"Scores   3 :\",results_model_3)\n",
        "print(\"Accuracy 3 :\",results_model_3.mean())\n",
        "print(\"std      3 :\",np.std(results_model_3))'''"
      ],
      "execution_count": null,
      "outputs": [
        {
          "output_type": "stream",
          "text": [
            "\n",
            " K-fold Cross-Validation : *********\n"
          ],
          "name": "stdout"
        },
        {
          "output_type": "stream",
          "text": [
            "/usr/local/lib/python3.7/dist-packages/sklearn/model_selection/_split.py:296: FutureWarning: Setting a random_state has no effect since shuffle is False. This will raise an error in 0.24. You should leave random_state to its default (None), or set shuffle=True.\n",
            "  FutureWarning\n"
          ],
          "name": "stderr"
        },
        {
          "output_type": "stream",
          "text": [
            "Scores   2 : [0.61538462 0.25       0.75       0.83333333 0.75       0.91666667\n",
            " 0.83333333 0.58333333 0.66666667 0.83333333]\n",
            "Accuracy 2 : 0.7032051282051281\n",
            "std      2 : 0.18153705815769308\n"
          ],
          "name": "stdout"
        },
        {
          "output_type": "execute_result",
          "data": {
            "application/vnd.google.colaboratory.intrinsic+json": {
              "type": "string"
            },
            "text/plain": [
              "'\\nprint(\"\\n Stratified K-fold Cross-Validation : *********\")\\nfrom sklearn.model_selection import StratifiedKFold\\nskfold = StratifiedKFold(n_splits=10, random_state=100)\\nmodel_3 = SVC(kernel=\"linear\", C=10.0, gamma= 0.1)\\nresults_model_3 = cross_val_score(model_3, train_vectors, Y_train_NB[:7000], cv=skfold)\\nprint(\"Scores   3 :\",results_model_3)\\nprint(\"Accuracy 3 :\",results_model_3.mean())\\nprint(\"std      3 :\",np.std(results_model_3))'"
            ]
          },
          "metadata": {
            "tags": []
          },
          "execution_count": 74
        }
      ]
    },
    {
      "cell_type": "markdown",
      "metadata": {
        "id": "_Sc0xtns8UQC"
      },
      "source": [
        "# Hyperparameters Tuning"
      ]
    },
    {
      "cell_type": "code",
      "metadata": {
        "colab": {
          "base_uri": "https://localhost:8080/",
          "height": 1000
        },
        "id": "SFrXJH7R8YVP",
        "outputId": "47621919-393b-4190-f91c-6978249aebb9"
      },
      "source": [
        "# Hyperparameters Tuning\n",
        "from sklearn.model_selection import train_test_split\n",
        "from sklearn.model_selection import GridSearchCV\n",
        "from sklearn.metrics import classification_report\n",
        "from sklearn.svm import SVC\n",
        "from sklearn.naive_bayes import MultinomialNB\n",
        "\n",
        "param_grid = [\n",
        "  {\"C\": [1, 10, 50, 100, 500, 1000], \"kernel\": [\"linear\"]},\n",
        "  {\"C\": [1, 10, 100, 1000],\"degree\":[3, 5, 7],  \"gamma\": [0.001, 0.0001], \"kernel\": [\"poly\"]},\n",
        "  {\"C\": [1, 10, 20, 50, 100, 500, 1000, 2000], \"gamma\": [0.001, 0.0001 , 0.0003], \"kernel\": [\"rbf\", \"sigmoid\"]},\n",
        "  # {'alpha':[0.0001 ,0.5, 0.001 , 2 , 5 ,20]}\n",
        "  # {\"hidden_layer_sizes\":[(100,50, ) ,(100,100)], \"batch_size\":[64],\"solver\":[\"adam\"], \"alpha\":[0.005 , 0.0001], \"activation\":[\"logistic\"], \"max_iter\":[50000], \"random_state\":[42]}\n",
        "]\n",
        "\n",
        "grid = GridSearchCV(SVC(), param_grid, refit = True, verbose = 1) \n",
        "grid.fit(train_vectors, Y_train_NB)\n",
        "\n",
        "print(\"----------------------------------------------------------------------\")\n",
        "print(\"The best parameter after tuning :\",grid.best_params_)  \n",
        "print(\"Our model looks after hyper-parameter tuning\",grid.best_estimator_)\n",
        "\n",
        "predicted = grid.predict(test_vectors)\n",
        "\n",
        "from sklearn import metrics\n",
        "print(\"Classification report : \\n\", grid,\"\\n\", \n",
        "      metrics.classification_report(Y_test_NB, predicted))\n",
        "disp = metrics.plot_confusion_matrix(grid, test_vectors, Y_test_NB)\n",
        "disp.figure_.suptitle(\"Confusion Matrix\")\n",
        "print(\"Confusion matrix: \\n\", disp.confusion_matrix)"
      ],
      "execution_count": null,
      "outputs": [
        {
          "output_type": "stream",
          "text": [
            "Fitting 5 folds for each of 78 candidates, totalling 390 fits\n"
          ],
          "name": "stdout"
        },
        {
          "output_type": "stream",
          "text": [
            "[Parallel(n_jobs=1)]: Using backend SequentialBackend with 1 concurrent workers.\n",
            "[Parallel(n_jobs=1)]: Done 390 out of 390 | elapsed:   29.5s finished\n"
          ],
          "name": "stderr"
        },
        {
          "output_type": "stream",
          "text": [
            "----------------------------------------------------------------------\n",
            "The best parameter after tuning : {'C': 10, 'gamma': 0.0001, 'kernel': 'rbf'}\n",
            "Our model looks after hyper-parameter tuning SVC(C=10, break_ties=False, cache_size=200, class_weight=None, coef0=0.0,\n",
            "    decision_function_shape='ovr', degree=3, gamma=0.0001, kernel='rbf',\n",
            "    max_iter=-1, probability=False, random_state=None, shrinking=True,\n",
            "    tol=0.001, verbose=False)\n",
            "Classification report : \n",
            " GridSearchCV(cv=None, error_score=nan,\n",
            "             estimator=SVC(C=1.0, break_ties=False, cache_size=200,\n",
            "                           class_weight=None, coef0=0.0,\n",
            "                           decision_function_shape='ovr', degree=3,\n",
            "                           gamma='scale', kernel='rbf', max_iter=-1,\n",
            "                           probability=False, random_state=None, shrinking=True,\n",
            "                           tol=0.001, verbose=False),\n",
            "             iid='deprecated', n_jobs=None,\n",
            "             param_grid=[{'C': [1, 10, 50, 100, 500, 1000],\n",
            "                          'kernel': ['linear']},\n",
            "                         {'C': [1, 10, 100, 1000], 'degree': [3, 5, 7],\n",
            "                          'gamma': [0.001, 0.0001], 'kernel': ['poly']},\n",
            "                         {'C': [1, 10, 20, 50, 100, 500, 1000, 2000],\n",
            "                          'gamma': [0.001, 0.0001, 0.0003],\n",
            "                          'kernel': ['rbf', 'sigmoid']}],\n",
            "             pre_dispatch='2*n_jobs', refit=True, return_train_score=False,\n",
            "             scoring=None, verbose=1) \n",
            "               precision    recall  f1-score   support\n",
            "\n",
            "           1       0.86      1.00      0.92        12\n",
            "           2       0.67      0.83      0.74        12\n",
            "           3       1.00      0.20      0.33         5\n",
            "           4       1.00      0.50      0.67         2\n",
            "\n",
            "    accuracy                           0.77        31\n",
            "   macro avg       0.88      0.63      0.67        31\n",
            "weighted avg       0.82      0.77      0.74        31\n",
            "\n",
            "Confusion matrix: \n",
            " [[12  0  0  0]\n",
            " [ 2 10  0  0]\n",
            " [ 0  4  1  0]\n",
            " [ 0  1  0  1]]\n"
          ],
          "name": "stdout"
        },
        {
          "output_type": "display_data",
          "data": {
            "image/png": "[encoded data removed]",
            "text/plain": [
              "<Figure size 432x288 with 2 Axes>"
            ]
          },
          "metadata": {
            "tags": [],
            "needs_background": "light"
          }
        }
      ]
    },
    {
      "cell_type": "markdown",
      "metadata": {
        "id": "lc00an28E4es"
      },
      "source": [
        "# Gradio"
      ]
    },
    {
      "cell_type": "code",
      "metadata": {
        "colab": {
          "base_uri": "https://localhost:8080/"
        },
        "id": "2qZHyiW-E6P-",
        "outputId": "ad696e33-a411-4184-dd08-d8fdcb863a47"
      },
      "source": [
        "!pip install gradio"
      ],
      "execution_count": null,
      "outputs": [
        {
          "output_type": "stream",
          "text": [
            "Collecting gradio\n",
            "\u001b[?25l  Downloading https://files.pythonhosted.org/packages/a2/31/9fc0bfcfb5e3be94350917640a709daca53ab3b35440d4ed67e60bf05567/gradio-2.1.2-py3-none-any.whl (2.5MB)\n",
            "\u001b[K     |████████████████████████████████| 2.5MB 14.4MB/s \n",
            "\u001b[?25hRequirement already satisfied: matplotlib in /usr/local/lib/python3.7/dist-packages (from gradio) (3.2.2)\n",
            "Requirement already satisfied: pandas in /usr/local/lib/python3.7/dist-packages (from gradio) (1.1.5)\n",
            "Collecting ffmpy\n",
            "  Downloading https://files.pythonhosted.org/packages/bf/e2/947df4b3d666bfdd2b0c6355d215c45d2d40f929451cb29a8a2995b29788/ffmpy-0.3.0.tar.gz\n",
            "Collecting Flask-Cors>=3.0.8\n",
            "  Downloading https://files.pythonhosted.org/packages/db/84/901e700de86604b1c4ef4b57110d4e947c218b9997adf5d38fa7da493bce/Flask_Cors-3.0.10-py2.py3-none-any.whl\n",
            "Collecting flask-cachebuster\n",
            "  Downloading https://files.pythonhosted.org/packages/74/47/f3e1fedfaad965c81c2f17234636d72f71450f1b4522ca26d2b7eb4a0a74/Flask-CacheBuster-1.0.0.tar.gz\n",
            "Collecting Flask-Login\n",
            "  Downloading https://files.pythonhosted.org/packages/2b/83/ac5bf3279f969704fc1e63f050c50e10985e50fd340e6069ec7e09df5442/Flask_Login-0.5.0-py2.py3-none-any.whl\n",
            "Requirement already satisfied: requests in /usr/local/lib/python3.7/dist-packages (from gradio) (2.23.0)\n",
            "Collecting paramiko\n",
            "\u001b[?25l  Downloading https://files.pythonhosted.org/packages/95/19/124e9287b43e6ff3ebb9cdea3e5e8e88475a873c05ccdf8b7e20d2c4201e/paramiko-2.7.2-py2.py3-none-any.whl (206kB)\n",
            "\u001b[K     |████████████████████████████████| 215kB 50.0MB/s \n",
            "\u001b[?25hCollecting analytics-python\n",
            "  Downloading https://files.pythonhosted.org/packages/30/81/2f447982f8d5dec5b56c10ca9ac53e5de2b2e9e2bdf7e091a05731f21379/analytics_python-1.3.1-py2.py3-none-any.whl\n",
            "Requirement already satisfied: numpy in /usr/local/lib/python3.7/dist-packages (from gradio) (1.19.5)\n",
            "Requirement already satisfied: scipy in /usr/local/lib/python3.7/dist-packages (from gradio) (1.4.1)\n",
            "Collecting pycryptodome\n",
            "\u001b[?25l  Downloading https://files.pythonhosted.org/packages/ad/16/9627ab0493894a11c68e46000dbcc82f578c8ff06bc2980dcd016aea9bd3/pycryptodome-3.10.1-cp35-abi3-manylinux2010_x86_64.whl (1.9MB)\n",
            "\u001b[K     |████████████████████████████████| 1.9MB 57.2MB/s \n",
            "\u001b[?25hRequirement already satisfied: Flask>=1.1.1 in /usr/local/lib/python3.7/dist-packages (from gradio) (1.1.4)\n",
            "Collecting markdown2\n",
            "  Downloading https://files.pythonhosted.org/packages/5d/be/3924cc1c0e12030b5225de2b4521f1dc729730773861475de26be64a0d2b/markdown2-2.4.0-py2.py3-none-any.whl\n",
            "Requirement already satisfied: pillow in /usr/local/lib/python3.7/dist-packages (from gradio) (7.1.2)\n",
            "Requirement already satisfied: kiwisolver>=1.0.1 in /usr/local/lib/python3.7/dist-packages (from matplotlib->gradio) (1.3.1)\n",
            "Requirement already satisfied: cycler>=0.10 in /usr/local/lib/python3.7/dist-packages (from matplotlib->gradio) (0.10.0)\n",
            "Requirement already satisfied: python-dateutil>=2.1 in /usr/local/lib/python3.7/dist-packages (from matplotlib->gradio) (2.8.1)\n",
            "Requirement already satisfied: pyparsing!=2.0.4,!=2.1.2,!=2.1.6,>=2.0.1 in /usr/local/lib/python3.7/dist-packages (from matplotlib->gradio) (2.4.7)\n",
            "Requirement already satisfied: pytz>=2017.2 in /usr/local/lib/python3.7/dist-packages (from pandas->gradio) (2018.9)\n",
            "Requirement already satisfied: Six in /usr/local/lib/python3.7/dist-packages (from Flask-Cors>=3.0.8->gradio) (1.15.0)\n",
            "Requirement already satisfied: chardet<4,>=3.0.2 in /usr/local/lib/python3.7/dist-packages (from requests->gradio) (3.0.4)\n",
            "Requirement already satisfied: idna<3,>=2.5 in /usr/local/lib/python3.7/dist-packages (from requests->gradio) (2.10)\n",
            "Requirement already satisfied: certifi>=2017.4.17 in /usr/local/lib/python3.7/dist-packages (from requests->gradio) (2021.5.30)\n",
            "Requirement already satisfied: urllib3!=1.25.0,!=1.25.1,<1.26,>=1.21.1 in /usr/local/lib/python3.7/dist-packages (from requests->gradio) (1.24.3)\n",
            "Collecting pynacl>=1.0.1\n",
            "\u001b[?25l  Downloading https://files.pythonhosted.org/packages/9d/57/2f5e6226a674b2bcb6db531e8b383079b678df5b10cdaa610d6cf20d77ba/PyNaCl-1.4.0-cp35-abi3-manylinux1_x86_64.whl (961kB)\n",
            "\u001b[K     |████████████████████████████████| 962kB 56.2MB/s \n",
            "\u001b[?25hCollecting bcrypt>=3.1.3\n",
            "\u001b[?25l  Downloading https://files.pythonhosted.org/packages/26/70/6d218afbe4c73538053c1016dd631e8f25fffc10cd01f5c272d7acf3c03d/bcrypt-3.2.0-cp36-abi3-manylinux2010_x86_64.whl (63kB)\n",
            "\u001b[K     |████████████████████████████████| 71kB 8.3MB/s \n",
            "\u001b[?25hCollecting cryptography>=2.5\n",
            "\u001b[?25l  Downloading https://files.pythonhosted.org/packages/b2/26/7af637e6a7e87258b963f1731c5982fb31cd507f0d90d91836e446955d02/cryptography-3.4.7-cp36-abi3-manylinux2014_x86_64.whl (3.2MB)\n",
            "\u001b[K     |████████████████████████████████| 3.2MB 63.9MB/s \n",
            "\u001b[?25hCollecting backoff==1.10.0\n",
            "  Downloading https://files.pythonhosted.org/packages/f0/32/c5dd4f4b0746e9ec05ace2a5045c1fc375ae67ee94355344ad6c7005fd87/backoff-1.10.0-py2.py3-none-any.whl\n",
            "Collecting monotonic>=1.5\n",
            "  Downloading https://files.pythonhosted.org/packages/9a/67/7e8406a29b6c45be7af7740456f7f37025f0506ae2e05fb9009a53946860/monotonic-1.6-py2.py3-none-any.whl\n",
            "Requirement already satisfied: click<8.0,>=5.1 in /usr/local/lib/python3.7/dist-packages (from Flask>=1.1.1->gradio) (7.1.2)\n",
            "Requirement already satisfied: Werkzeug<2.0,>=0.15 in /usr/local/lib/python3.7/dist-packages (from Flask>=1.1.1->gradio) (1.0.1)\n",
            "Requirement already satisfied: Jinja2<3.0,>=2.10.1 in /usr/local/lib/python3.7/dist-packages (from Flask>=1.1.1->gradio) (2.11.3)\n",
            "Requirement already satisfied: itsdangerous<2.0,>=0.24 in /usr/local/lib/python3.7/dist-packages (from Flask>=1.1.1->gradio) (1.1.0)\n",
            "Requirement already satisfied: cffi>=1.4.1 in /usr/local/lib/python3.7/dist-packages (from pynacl>=1.0.1->paramiko->gradio) (1.14.5)\n",
            "Requirement already satisfied: MarkupSafe>=0.23 in /usr/local/lib/python3.7/dist-packages (from Jinja2<3.0,>=2.10.1->Flask>=1.1.1->gradio) (2.0.1)\n",
            "Requirement already satisfied: pycparser in /usr/local/lib/python3.7/dist-packages (from cffi>=1.4.1->pynacl>=1.0.1->paramiko->gradio) (2.20)\n",
            "Building wheels for collected packages: ffmpy, flask-cachebuster\n",
            "  Building wheel for ffmpy (setup.py) ... \u001b[?25l\u001b[?25hdone\n",
            "  Created wheel for ffmpy: filename=ffmpy-0.3.0-cp37-none-any.whl size=4710 sha256=5cb3211bdb5d9170eb39caddeae95c1368fd547b90356a8176ead8564bdcb4b6\n",
            "  Stored in directory: /root/.cache/pip/wheels/cc/ac/c4/bef572cb7e52bfca170046f567e64858632daf77e0f34e5a74\n",
            "  Building wheel for flask-cachebuster (setup.py) ... \u001b[?25l\u001b[?25hdone\n",
            "  Created wheel for flask-cachebuster: filename=Flask_CacheBuster-1.0.0-cp37-none-any.whl size=3372 sha256=eff29750131d6018c4f3b3b78f4361a0005ad372502662854bba73412989be1c\n",
            "  Stored in directory: /root/.cache/pip/wheels/9f/fc/a7/ab5712c3ace9a8f97276465cc2937316ab8063c1fea488ea77\n",
            "Successfully built ffmpy flask-cachebuster\n",
            "Installing collected packages: ffmpy, Flask-Cors, flask-cachebuster, Flask-Login, pynacl, bcrypt, cryptography, paramiko, backoff, monotonic, analytics-python, pycryptodome, markdown2, gradio\n",
            "Successfully installed Flask-Cors-3.0.10 Flask-Login-0.5.0 analytics-python-1.3.1 backoff-1.10.0 bcrypt-3.2.0 cryptography-3.4.7 ffmpy-0.3.0 flask-cachebuster-1.0.0 gradio-2.1.2 markdown2-2.4.0 monotonic-1.6 paramiko-2.7.2 pycryptodome-3.10.1 pynacl-1.4.0\n"
          ],
          "name": "stdout"
        }
      ]
    },
    {
      "cell_type": "code",
      "metadata": {
        "colab": {
          "base_uri": "https://localhost:8080/",
          "height": 645
        },
        "id": "lnkmjGZVE8Jv",
        "outputId": "f8b6e060-c388-45d0-e7ca-3c4ad64003a1"
      },
      "source": [
        "# https://www.gradio.app/ml_examples\n",
        "# https://www.kaggle.com/scolianni/mnistasjpg\n",
        "\n",
        "import tensorflow as tf\n",
        "from tensorflow import keras\n",
        "import numpy as np\n",
        "import gradio as gr\n",
        "import requests\n",
        "\n",
        "def inference(tweet):\n",
        "    labels = ['18-24', '25-34', '35-49', '50-XX']\n",
        "    texts = vec.transform([tweet])\n",
        "    pred = mlp.predict_proba(texts)\n",
        "    #pred = np.append(pred,int(not pred[0]))\n",
        "    dictionary = dict(zip(labels, map(float, pred[0])))\n",
        "    return dictionary\n",
        "\n",
        "\n",
        "gr.Interface(fn=inference, \n",
        "             inputs=\"textbox\", \n",
        "             outputs=gr.outputs.Label(num_top_classes=4)).launch(share=True) #, debug=True Use in Colab\n",
        "\n",
        "\n"
      ],
      "execution_count": null,
      "outputs": [
        {
          "output_type": "stream",
          "text": [
            "Colab notebook detected. To show errors in colab notebook, set `debug=True` in `launch()`\n",
            "This share link will expire in 24 hours. If you need a permanent link, visit: https://gradio.app/introducing-hosted (NEW!)\n",
            "Running on External URL: https://24478.gradio.app\n",
            "Interface loading below...\n"
          ],
          "name": "stdout"
        },
        {
          "output_type": "display_data",
          "data": {
            "text/html": [
              "\n",
              "        <iframe\n",
              "            width=\"900\"\n",
              "            height=\"500\"\n",
              "            src=\"https://24478.gradio.app\"\n",
              "            frameborder=\"0\"\n",
              "            allowfullscreen\n",
              "        ></iframe>\n",
              "        "
            ],
            "text/plain": [
              "<IPython.lib.display.IFrame at 0x7f38472ff210>"
            ]
          },
          "metadata": {
            "tags": []
          }
        },
        {
          "output_type": "execute_result",
          "data": {
            "text/plain": [
              "(<Flask 'gradio.networking'>,\n",
              " 'http://127.0.0.1:7860/',\n",
              " 'https://24478.gradio.app')"
            ]
          },
          "metadata": {
            "tags": []
          },
          "execution_count": 141
        }
      ]
    },
    {
      "cell_type": "code",
      "metadata": {
        "id": "MpjmQBpbFfnU"
      },
      "source": [],
      "execution_count": null,
      "outputs": []
    }
  ]
}